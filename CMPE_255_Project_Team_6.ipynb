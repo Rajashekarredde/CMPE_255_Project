{
  "nbformat": 4,
  "nbformat_minor": 0,
  "metadata": {
    "colab": {
      "name": "CMPE_255_Project_Team 6.ipynb",
      "provenance": [],
      "collapsed_sections": [
        "qF3mLVgLY9ge",
        "ZPvkWSs_ZaK3",
        "EsQt9tgMZppw"
      ]
    },
    "kernelspec": {
      "name": "python3",
      "display_name": "Python 3"
    },
    "language_info": {
      "name": "python"
    }
  },
  "cells": [
    {
      "cell_type": "markdown",
      "source": [
        "# <font color=red> Problem Statement\n",
        "\n",
        "```\n",
        "# This is formatted as code\n",
        "```\n",
        "\n",
        "  </font>"
      ],
      "metadata": {
        "id": "L4DRp_QJaEmf"
      }
    },
    {
      "cell_type": "markdown",
      "source": [
        "####In this project supervised machine learning techniques are used to develop predictive models for the COVID-19 infection, using an epidemiology labeled dataset for positive and negative COVID-19 cases in Mexico, with supervised learning algorithms such as decision tree, logistic regression,Random Forest and naive Bayes, support vector machine, and k-nearest neighbors "
      ],
      "metadata": {
        "id": "GpJS_CVJZ3uz"
      }
    },
    {
      "cell_type": "markdown",
      "source": [
        "# <font color=red> Motivation\n"
      ],
      "metadata": {
        "id": "WQPT5xDSa8Ca"
      }
    },
    {
      "cell_type": "markdown",
      "source": [
        "####The healthcare and economic sectors are both at risk because of COVID-19. It's evident that non-clinical tools like machine learning, data mining, expert systems, and other artificial intelligence techniques will be crucial in diagnosing and containing the COVID-19 epidemic. The motivation of this project to contribute my domain and technical knowledge to fight against the disease.\n",
        "\n"
      ],
      "metadata": {
        "id": "bvXvQ9qPbFdi"
      }
    },
    {
      "cell_type": "markdown",
      "source": [
        "# <font color=brown> Preprocessing  </font>"
      ],
      "metadata": {
        "id": "5KCnTx0fbdi8"
      }
    },
    {
      "cell_type": "markdown",
      "source": [
        "## Library Imports "
      ],
      "metadata": {
        "id": "sUuU16s2biNH"
      }
    },
    {
      "cell_type": "code",
      "execution_count": null,
      "metadata": {
        "id": "TSCA8Kg-WwFl"
      },
      "outputs": [],
      "source": [
        "import numpy as np\n",
        "import pandas as pd\n",
        "import matplotlib.pyplot as plt\n",
        "import seaborn as sns\n",
        "import warnings\n",
        "warnings.filterwarnings(\"ignore\")"
      ]
    },
    {
      "cell_type": "code",
      "source": [
        "df=pd.read_csv(\"/content/sample_data/covid19data.csv\",encoding = \"ISO-8859-1\")"
      ],
      "metadata": {
        "id": "Pgy3QOHKW2-6"
      },
      "execution_count": null,
      "outputs": []
    },
    {
      "cell_type": "markdown",
      "source": [
        "## Initial Analysis"
      ],
      "metadata": {
        "id": "UhB5wQbLbxO-"
      }
    },
    {
      "cell_type": "code",
      "source": [
        "df.head(5)"
      ],
      "metadata": {
        "colab": {
          "base_uri": "https://localhost:8080/",
          "height": 317
        },
        "id": "wM9CjCWzX6Zb",
        "outputId": "00208465-ec8b-4076-8e39-103b9808ab76"
      },
      "execution_count": null,
      "outputs": [
        {
          "output_type": "execute_result",
          "data": {
            "text/plain": [
              "  UPDATE DATE REGISTRATION ID  ORIGIN  SECTOR  ENTITY UM  SEX  NAC ENTITY  \\\n",
              "0    5/1/2020          1af10a       1       4          2    1          25   \n",
              "1    5/1/2020          13bd8e       2       6         28    1          28   \n",
              "2    5/1/2020          03c1e7       2       4          2    2          14   \n",
              "3    5/1/2020          0bfc7a       1       9          9    2          15   \n",
              "4    5/1/2020          16afec       2      12         25    2          25   \n",
              "\n",
              "   ENTITY RES  MUNICIPALITY RES  PATIENT TYPE  ... CARDIOVASCULAR OBESITY  \\\n",
              "0           2                 4             1  ...              2       2   \n",
              "1          28                22             1  ...              2       2   \n",
              "2           2                 2             1  ...              2       2   \n",
              "3           9                15             1  ...              2       2   \n",
              "4          25                 6             1  ...              2       2   \n",
              "\n",
              "  CHRONIC KIDNEY  SMOKING  OTHER CASE  RESULT  MIGRANT  COUNTRY_NATIONALITY  \\\n",
              "0              2        2          99       1       99              MÃ©xico   \n",
              "1              2        2           1       2       99              MÃ©xico   \n",
              "2              2        2          99       1       99              MÃ©xico   \n",
              "3              2        2           1       1       99              MÃ©xico   \n",
              "4              2        1           2       1       99              MÃ©xico   \n",
              "\n",
              "   COUNTRY_ORIGEN  ICU  \n",
              "0              99   97  \n",
              "1              99   97  \n",
              "2              99   97  \n",
              "3              99   97  \n",
              "4              99   97  \n",
              "\n",
              "[5 rows x 35 columns]"
            ],
            "text/html": [
              "\n",
              "  <div id=\"df-78fcf4f8-3957-43a0-8319-66c530c29860\">\n",
              "    <div class=\"colab-df-container\">\n",
              "      <div>\n",
              "<style scoped>\n",
              "    .dataframe tbody tr th:only-of-type {\n",
              "        vertical-align: middle;\n",
              "    }\n",
              "\n",
              "    .dataframe tbody tr th {\n",
              "        vertical-align: top;\n",
              "    }\n",
              "\n",
              "    .dataframe thead th {\n",
              "        text-align: right;\n",
              "    }\n",
              "</style>\n",
              "<table border=\"1\" class=\"dataframe\">\n",
              "  <thead>\n",
              "    <tr style=\"text-align: right;\">\n",
              "      <th></th>\n",
              "      <th>UPDATE DATE</th>\n",
              "      <th>REGISTRATION ID</th>\n",
              "      <th>ORIGIN</th>\n",
              "      <th>SECTOR</th>\n",
              "      <th>ENTITY UM</th>\n",
              "      <th>SEX</th>\n",
              "      <th>NAC ENTITY</th>\n",
              "      <th>ENTITY RES</th>\n",
              "      <th>MUNICIPALITY RES</th>\n",
              "      <th>PATIENT TYPE</th>\n",
              "      <th>...</th>\n",
              "      <th>CARDIOVASCULAR</th>\n",
              "      <th>OBESITY</th>\n",
              "      <th>CHRONIC KIDNEY</th>\n",
              "      <th>SMOKING</th>\n",
              "      <th>OTHER CASE</th>\n",
              "      <th>RESULT</th>\n",
              "      <th>MIGRANT</th>\n",
              "      <th>COUNTRY_NATIONALITY</th>\n",
              "      <th>COUNTRY_ORIGEN</th>\n",
              "      <th>ICU</th>\n",
              "    </tr>\n",
              "  </thead>\n",
              "  <tbody>\n",
              "    <tr>\n",
              "      <th>0</th>\n",
              "      <td>5/1/2020</td>\n",
              "      <td>1af10a</td>\n",
              "      <td>1</td>\n",
              "      <td>4</td>\n",
              "      <td>2</td>\n",
              "      <td>1</td>\n",
              "      <td>25</td>\n",
              "      <td>2</td>\n",
              "      <td>4</td>\n",
              "      <td>1</td>\n",
              "      <td>...</td>\n",
              "      <td>2</td>\n",
              "      <td>2</td>\n",
              "      <td>2</td>\n",
              "      <td>2</td>\n",
              "      <td>99</td>\n",
              "      <td>1</td>\n",
              "      <td>99</td>\n",
              "      <td>MÃ©xico</td>\n",
              "      <td>99</td>\n",
              "      <td>97</td>\n",
              "    </tr>\n",
              "    <tr>\n",
              "      <th>1</th>\n",
              "      <td>5/1/2020</td>\n",
              "      <td>13bd8e</td>\n",
              "      <td>2</td>\n",
              "      <td>6</td>\n",
              "      <td>28</td>\n",
              "      <td>1</td>\n",
              "      <td>28</td>\n",
              "      <td>28</td>\n",
              "      <td>22</td>\n",
              "      <td>1</td>\n",
              "      <td>...</td>\n",
              "      <td>2</td>\n",
              "      <td>2</td>\n",
              "      <td>2</td>\n",
              "      <td>2</td>\n",
              "      <td>1</td>\n",
              "      <td>2</td>\n",
              "      <td>99</td>\n",
              "      <td>MÃ©xico</td>\n",
              "      <td>99</td>\n",
              "      <td>97</td>\n",
              "    </tr>\n",
              "    <tr>\n",
              "      <th>2</th>\n",
              "      <td>5/1/2020</td>\n",
              "      <td>03c1e7</td>\n",
              "      <td>2</td>\n",
              "      <td>4</td>\n",
              "      <td>2</td>\n",
              "      <td>2</td>\n",
              "      <td>14</td>\n",
              "      <td>2</td>\n",
              "      <td>2</td>\n",
              "      <td>1</td>\n",
              "      <td>...</td>\n",
              "      <td>2</td>\n",
              "      <td>2</td>\n",
              "      <td>2</td>\n",
              "      <td>2</td>\n",
              "      <td>99</td>\n",
              "      <td>1</td>\n",
              "      <td>99</td>\n",
              "      <td>MÃ©xico</td>\n",
              "      <td>99</td>\n",
              "      <td>97</td>\n",
              "    </tr>\n",
              "    <tr>\n",
              "      <th>3</th>\n",
              "      <td>5/1/2020</td>\n",
              "      <td>0bfc7a</td>\n",
              "      <td>1</td>\n",
              "      <td>9</td>\n",
              "      <td>9</td>\n",
              "      <td>2</td>\n",
              "      <td>15</td>\n",
              "      <td>9</td>\n",
              "      <td>15</td>\n",
              "      <td>1</td>\n",
              "      <td>...</td>\n",
              "      <td>2</td>\n",
              "      <td>2</td>\n",
              "      <td>2</td>\n",
              "      <td>2</td>\n",
              "      <td>1</td>\n",
              "      <td>1</td>\n",
              "      <td>99</td>\n",
              "      <td>MÃ©xico</td>\n",
              "      <td>99</td>\n",
              "      <td>97</td>\n",
              "    </tr>\n",
              "    <tr>\n",
              "      <th>4</th>\n",
              "      <td>5/1/2020</td>\n",
              "      <td>16afec</td>\n",
              "      <td>2</td>\n",
              "      <td>12</td>\n",
              "      <td>25</td>\n",
              "      <td>2</td>\n",
              "      <td>25</td>\n",
              "      <td>25</td>\n",
              "      <td>6</td>\n",
              "      <td>1</td>\n",
              "      <td>...</td>\n",
              "      <td>2</td>\n",
              "      <td>2</td>\n",
              "      <td>2</td>\n",
              "      <td>1</td>\n",
              "      <td>2</td>\n",
              "      <td>1</td>\n",
              "      <td>99</td>\n",
              "      <td>MÃ©xico</td>\n",
              "      <td>99</td>\n",
              "      <td>97</td>\n",
              "    </tr>\n",
              "  </tbody>\n",
              "</table>\n",
              "<p>5 rows × 35 columns</p>\n",
              "</div>\n",
              "      <button class=\"colab-df-convert\" onclick=\"convertToInteractive('df-78fcf4f8-3957-43a0-8319-66c530c29860')\"\n",
              "              title=\"Convert this dataframe to an interactive table.\"\n",
              "              style=\"display:none;\">\n",
              "        \n",
              "  <svg xmlns=\"http://www.w3.org/2000/svg\" height=\"24px\"viewBox=\"0 0 24 24\"\n",
              "       width=\"24px\">\n",
              "    <path d=\"M0 0h24v24H0V0z\" fill=\"none\"/>\n",
              "    <path d=\"M18.56 5.44l.94 2.06.94-2.06 2.06-.94-2.06-.94-.94-2.06-.94 2.06-2.06.94zm-11 1L8.5 8.5l.94-2.06 2.06-.94-2.06-.94L8.5 2.5l-.94 2.06-2.06.94zm10 10l.94 2.06.94-2.06 2.06-.94-2.06-.94-.94-2.06-.94 2.06-2.06.94z\"/><path d=\"M17.41 7.96l-1.37-1.37c-.4-.4-.92-.59-1.43-.59-.52 0-1.04.2-1.43.59L10.3 9.45l-7.72 7.72c-.78.78-.78 2.05 0 2.83L4 21.41c.39.39.9.59 1.41.59.51 0 1.02-.2 1.41-.59l7.78-7.78 2.81-2.81c.8-.78.8-2.07 0-2.86zM5.41 20L4 18.59l7.72-7.72 1.47 1.35L5.41 20z\"/>\n",
              "  </svg>\n",
              "      </button>\n",
              "      \n",
              "  <style>\n",
              "    .colab-df-container {\n",
              "      display:flex;\n",
              "      flex-wrap:wrap;\n",
              "      gap: 12px;\n",
              "    }\n",
              "\n",
              "    .colab-df-convert {\n",
              "      background-color: #E8F0FE;\n",
              "      border: none;\n",
              "      border-radius: 50%;\n",
              "      cursor: pointer;\n",
              "      display: none;\n",
              "      fill: #1967D2;\n",
              "      height: 32px;\n",
              "      padding: 0 0 0 0;\n",
              "      width: 32px;\n",
              "    }\n",
              "\n",
              "    .colab-df-convert:hover {\n",
              "      background-color: #E2EBFA;\n",
              "      box-shadow: 0px 1px 2px rgba(60, 64, 67, 0.3), 0px 1px 3px 1px rgba(60, 64, 67, 0.15);\n",
              "      fill: #174EA6;\n",
              "    }\n",
              "\n",
              "    [theme=dark] .colab-df-convert {\n",
              "      background-color: #3B4455;\n",
              "      fill: #D2E3FC;\n",
              "    }\n",
              "\n",
              "    [theme=dark] .colab-df-convert:hover {\n",
              "      background-color: #434B5C;\n",
              "      box-shadow: 0px 1px 3px 1px rgba(0, 0, 0, 0.15);\n",
              "      filter: drop-shadow(0px 1px 2px rgba(0, 0, 0, 0.3));\n",
              "      fill: #FFFFFF;\n",
              "    }\n",
              "  </style>\n",
              "\n",
              "      <script>\n",
              "        const buttonEl =\n",
              "          document.querySelector('#df-78fcf4f8-3957-43a0-8319-66c530c29860 button.colab-df-convert');\n",
              "        buttonEl.style.display =\n",
              "          google.colab.kernel.accessAllowed ? 'block' : 'none';\n",
              "\n",
              "        async function convertToInteractive(key) {\n",
              "          const element = document.querySelector('#df-78fcf4f8-3957-43a0-8319-66c530c29860');\n",
              "          const dataTable =\n",
              "            await google.colab.kernel.invokeFunction('convertToInteractive',\n",
              "                                                     [key], {});\n",
              "          if (!dataTable) return;\n",
              "\n",
              "          const docLinkHtml = 'Like what you see? Visit the ' +\n",
              "            '<a target=\"_blank\" href=https://colab.research.google.com/notebooks/data_table.ipynb>data table notebook</a>'\n",
              "            + ' to learn more about interactive tables.';\n",
              "          element.innerHTML = '';\n",
              "          dataTable['output_type'] = 'display_data';\n",
              "          await google.colab.output.renderOutput(dataTable, element);\n",
              "          const docLink = document.createElement('div');\n",
              "          docLink.innerHTML = docLinkHtml;\n",
              "          element.appendChild(docLink);\n",
              "        }\n",
              "      </script>\n",
              "    </div>\n",
              "  </div>\n",
              "  "
            ]
          },
          "metadata": {},
          "execution_count": 3
        }
      ]
    },
    {
      "cell_type": "code",
      "source": [
        "df.columns"
      ],
      "metadata": {
        "colab": {
          "base_uri": "https://localhost:8080/"
        },
        "id": "MncDZB7YX8Fg",
        "outputId": "8155a6b9-d22f-449b-aea3-7a09a087d53f"
      },
      "execution_count": null,
      "outputs": [
        {
          "output_type": "execute_result",
          "data": {
            "text/plain": [
              "Index(['UPDATE DATE', 'REGISTRATION ID', 'ORIGIN', 'SECTOR', 'ENTITY UM',\n",
              "       'SEX', 'NAC ENTITY', 'ENTITY RES', 'MUNICIPALITY RES', 'PATIENT TYPE',\n",
              "       'ENTRY DATE', 'SYMPTOMS DATE', 'DEATH DATE', 'INCUBATION', 'PNEUMONIA',\n",
              "       'AGE', 'NATIONALITY', 'PREGNANCY', 'INDIGENOUS_LANG', 'DIABETES',\n",
              "       'COPD', 'ASTHMA', 'INMUSUPR', 'HYPERTENSION', 'OTHER COM',\n",
              "       'CARDIOVASCULAR', 'OBESITY', 'CHRONIC KIDNEY', 'SMOKING', 'OTHER CASE',\n",
              "       'RESULT', 'MIGRANT', 'COUNTRY_NATIONALITY', 'COUNTRY_ORIGEN', 'ICU'],\n",
              "      dtype='object')"
            ]
          },
          "metadata": {},
          "execution_count": 4
        }
      ]
    },
    {
      "cell_type": "code",
      "source": [
        "df.rename(columns={'OTHER CASE': 'OTHERCASE', 'OTHER COM' : 'OTHERCOM','CHRONIC KIDNEY':'CHRONIC_KIDNEY'},inplace=True)"
      ],
      "metadata": {
        "id": "1srX42sRYBDO"
      },
      "execution_count": null,
      "outputs": []
    },
    {
      "cell_type": "code",
      "source": [
        "df.info()\n",
        "df.describe()"
      ],
      "metadata": {
        "colab": {
          "base_uri": "https://localhost:8080/",
          "height": 1000
        },
        "id": "jJ3X7SNKYHCm",
        "outputId": "8ded917c-8e2b-4763-ccdd-459075709bf0"
      },
      "execution_count": null,
      "outputs": [
        {
          "output_type": "stream",
          "name": "stdout",
          "text": [
            "<class 'pandas.core.frame.DataFrame'>\n",
            "RangeIndex: 91188 entries, 0 to 91187\n",
            "Data columns (total 35 columns):\n",
            " #   Column               Non-Null Count  Dtype \n",
            "---  ------               --------------  ----- \n",
            " 0   UPDATE DATE          91188 non-null  object\n",
            " 1   REGISTRATION ID      91188 non-null  object\n",
            " 2   ORIGIN               91188 non-null  int64 \n",
            " 3   SECTOR               91188 non-null  int64 \n",
            " 4   ENTITY UM            91188 non-null  int64 \n",
            " 5   SEX                  91188 non-null  int64 \n",
            " 6   NAC ENTITY           91188 non-null  int64 \n",
            " 7   ENTITY RES           91188 non-null  int64 \n",
            " 8   MUNICIPALITY RES     91188 non-null  int64 \n",
            " 9   PATIENT TYPE         91188 non-null  int64 \n",
            " 10  ENTRY DATE           91188 non-null  object\n",
            " 11  SYMPTOMS DATE        91188 non-null  object\n",
            " 12  DEATH DATE           91188 non-null  object\n",
            " 13  INCUBATION           91188 non-null  int64 \n",
            " 14  PNEUMONIA            91188 non-null  int64 \n",
            " 15  AGE                  91188 non-null  int64 \n",
            " 16  NATIONALITY          91188 non-null  int64 \n",
            " 17  PREGNANCY            91188 non-null  int64 \n",
            " 18  INDIGENOUS_LANG      91188 non-null  int64 \n",
            " 19  DIABETES             91188 non-null  int64 \n",
            " 20  COPD                 91188 non-null  int64 \n",
            " 21  ASTHMA               91188 non-null  int64 \n",
            " 22  INMUSUPR             91188 non-null  int64 \n",
            " 23  HYPERTENSION         91188 non-null  int64 \n",
            " 24  OTHERCOM             91188 non-null  int64 \n",
            " 25  CARDIOVASCULAR       91188 non-null  int64 \n",
            " 26  OBESITY              91188 non-null  int64 \n",
            " 27  CHRONIC_KIDNEY       91188 non-null  int64 \n",
            " 28  SMOKING              91188 non-null  int64 \n",
            " 29  OTHERCASE            91188 non-null  int64 \n",
            " 30  RESULT               91188 non-null  int64 \n",
            " 31  MIGRANT              91188 non-null  int64 \n",
            " 32  COUNTRY_NATIONALITY  91188 non-null  object\n",
            " 33  COUNTRY_ORIGEN       91188 non-null  object\n",
            " 34  ICU                  91188 non-null  int64 \n",
            "dtypes: int64(28), object(7)\n",
            "memory usage: 24.3+ MB\n"
          ]
        },
        {
          "output_type": "execute_result",
          "data": {
            "text/plain": [
              "             ORIGIN        SECTOR     ENTITY UM           SEX    NAC ENTITY  \\\n",
              "count  91188.000000  91188.000000  91188.000000  91188.000000  91188.000000   \n",
              "mean       1.619171      9.386027     14.641641      1.506953     16.442646   \n",
              "std        0.485593      8.286870      8.099262      0.499954     12.425432   \n",
              "min        1.000000      1.000000      1.000000      1.000000      1.000000   \n",
              "25%        1.000000      4.000000      9.000000      1.000000      9.000000   \n",
              "50%        2.000000     12.000000     14.000000      2.000000     14.000000   \n",
              "75%        2.000000     12.000000     20.000000      2.000000     21.000000   \n",
              "max        2.000000     99.000000     32.000000      2.000000     99.000000   \n",
              "\n",
              "         ENTITY RES  MUNICIPALITY RES  PATIENT TYPE    INCUBATION  \\\n",
              "count  91188.000000      91188.000000  91188.000000  91188.000000   \n",
              "mean      14.883855         35.326490      1.264333     71.892990   \n",
              "std        8.031963         45.500825      0.440980     41.913919   \n",
              "min        1.000000          1.000000      1.000000      1.000000   \n",
              "25%        9.000000          7.000000      1.000000      2.000000   \n",
              "50%       14.000000         19.000000      1.000000     97.000000   \n",
              "75%       20.000000         44.000000      2.000000     97.000000   \n",
              "max       32.000000        999.000000      2.000000     99.000000   \n",
              "\n",
              "          PNEUMONIA  ...  HYPERTENSION      OTHERCOM  CARDIOVASCULAR  \\\n",
              "count  91188.000000  ...  91188.000000  91188.000000    91188.000000   \n",
              "mean       1.825997  ...      2.247072      2.508082        2.400393   \n",
              "std        0.988790  ...      6.367088      7.297612        6.427162   \n",
              "min        1.000000  ...      1.000000      1.000000        1.000000   \n",
              "25%        2.000000  ...      2.000000      2.000000        2.000000   \n",
              "50%        2.000000  ...      2.000000      2.000000        2.000000   \n",
              "75%        2.000000  ...      2.000000      2.000000        2.000000   \n",
              "max       99.000000  ...     98.000000     98.000000       98.000000   \n",
              "\n",
              "            OBESITY  CHRONIC_KIDNEY       SMOKING     OTHERCASE        RESULT  \\\n",
              "count  91188.000000    91188.000000  91188.000000  91188.000000  91188.000000   \n",
              "mean       2.247390        2.401511      2.325887     37.758784      1.941955   \n",
              "std        6.278217        6.379160      6.373388     47.110677      0.627258   \n",
              "min        1.000000        1.000000      1.000000      1.000000      1.000000   \n",
              "25%        2.000000        2.000000      2.000000      1.000000      2.000000   \n",
              "50%        2.000000        2.000000      2.000000      2.000000      2.000000   \n",
              "75%        2.000000        2.000000      2.000000     99.000000      2.000000   \n",
              "max       98.000000       98.000000     98.000000     99.000000      3.000000   \n",
              "\n",
              "            MIGRANT           ICU  \n",
              "count  91188.000000  91188.000000  \n",
              "mean      98.499002     71.891312  \n",
              "std        6.967975     41.917981  \n",
              "min        1.000000      1.000000  \n",
              "25%       99.000000      2.000000  \n",
              "50%       99.000000     97.000000  \n",
              "75%       99.000000     97.000000  \n",
              "max       99.000000     99.000000  \n",
              "\n",
              "[8 rows x 28 columns]"
            ],
            "text/html": [
              "\n",
              "  <div id=\"df-4a4a49bc-8d5c-43c7-8add-9984c76c9ef0\">\n",
              "    <div class=\"colab-df-container\">\n",
              "      <div>\n",
              "<style scoped>\n",
              "    .dataframe tbody tr th:only-of-type {\n",
              "        vertical-align: middle;\n",
              "    }\n",
              "\n",
              "    .dataframe tbody tr th {\n",
              "        vertical-align: top;\n",
              "    }\n",
              "\n",
              "    .dataframe thead th {\n",
              "        text-align: right;\n",
              "    }\n",
              "</style>\n",
              "<table border=\"1\" class=\"dataframe\">\n",
              "  <thead>\n",
              "    <tr style=\"text-align: right;\">\n",
              "      <th></th>\n",
              "      <th>ORIGIN</th>\n",
              "      <th>SECTOR</th>\n",
              "      <th>ENTITY UM</th>\n",
              "      <th>SEX</th>\n",
              "      <th>NAC ENTITY</th>\n",
              "      <th>ENTITY RES</th>\n",
              "      <th>MUNICIPALITY RES</th>\n",
              "      <th>PATIENT TYPE</th>\n",
              "      <th>INCUBATION</th>\n",
              "      <th>PNEUMONIA</th>\n",
              "      <th>...</th>\n",
              "      <th>HYPERTENSION</th>\n",
              "      <th>OTHERCOM</th>\n",
              "      <th>CARDIOVASCULAR</th>\n",
              "      <th>OBESITY</th>\n",
              "      <th>CHRONIC_KIDNEY</th>\n",
              "      <th>SMOKING</th>\n",
              "      <th>OTHERCASE</th>\n",
              "      <th>RESULT</th>\n",
              "      <th>MIGRANT</th>\n",
              "      <th>ICU</th>\n",
              "    </tr>\n",
              "  </thead>\n",
              "  <tbody>\n",
              "    <tr>\n",
              "      <th>count</th>\n",
              "      <td>91188.000000</td>\n",
              "      <td>91188.000000</td>\n",
              "      <td>91188.000000</td>\n",
              "      <td>91188.000000</td>\n",
              "      <td>91188.000000</td>\n",
              "      <td>91188.000000</td>\n",
              "      <td>91188.000000</td>\n",
              "      <td>91188.000000</td>\n",
              "      <td>91188.000000</td>\n",
              "      <td>91188.000000</td>\n",
              "      <td>...</td>\n",
              "      <td>91188.000000</td>\n",
              "      <td>91188.000000</td>\n",
              "      <td>91188.000000</td>\n",
              "      <td>91188.000000</td>\n",
              "      <td>91188.000000</td>\n",
              "      <td>91188.000000</td>\n",
              "      <td>91188.000000</td>\n",
              "      <td>91188.000000</td>\n",
              "      <td>91188.000000</td>\n",
              "      <td>91188.000000</td>\n",
              "    </tr>\n",
              "    <tr>\n",
              "      <th>mean</th>\n",
              "      <td>1.619171</td>\n",
              "      <td>9.386027</td>\n",
              "      <td>14.641641</td>\n",
              "      <td>1.506953</td>\n",
              "      <td>16.442646</td>\n",
              "      <td>14.883855</td>\n",
              "      <td>35.326490</td>\n",
              "      <td>1.264333</td>\n",
              "      <td>71.892990</td>\n",
              "      <td>1.825997</td>\n",
              "      <td>...</td>\n",
              "      <td>2.247072</td>\n",
              "      <td>2.508082</td>\n",
              "      <td>2.400393</td>\n",
              "      <td>2.247390</td>\n",
              "      <td>2.401511</td>\n",
              "      <td>2.325887</td>\n",
              "      <td>37.758784</td>\n",
              "      <td>1.941955</td>\n",
              "      <td>98.499002</td>\n",
              "      <td>71.891312</td>\n",
              "    </tr>\n",
              "    <tr>\n",
              "      <th>std</th>\n",
              "      <td>0.485593</td>\n",
              "      <td>8.286870</td>\n",
              "      <td>8.099262</td>\n",
              "      <td>0.499954</td>\n",
              "      <td>12.425432</td>\n",
              "      <td>8.031963</td>\n",
              "      <td>45.500825</td>\n",
              "      <td>0.440980</td>\n",
              "      <td>41.913919</td>\n",
              "      <td>0.988790</td>\n",
              "      <td>...</td>\n",
              "      <td>6.367088</td>\n",
              "      <td>7.297612</td>\n",
              "      <td>6.427162</td>\n",
              "      <td>6.278217</td>\n",
              "      <td>6.379160</td>\n",
              "      <td>6.373388</td>\n",
              "      <td>47.110677</td>\n",
              "      <td>0.627258</td>\n",
              "      <td>6.967975</td>\n",
              "      <td>41.917981</td>\n",
              "    </tr>\n",
              "    <tr>\n",
              "      <th>min</th>\n",
              "      <td>1.000000</td>\n",
              "      <td>1.000000</td>\n",
              "      <td>1.000000</td>\n",
              "      <td>1.000000</td>\n",
              "      <td>1.000000</td>\n",
              "      <td>1.000000</td>\n",
              "      <td>1.000000</td>\n",
              "      <td>1.000000</td>\n",
              "      <td>1.000000</td>\n",
              "      <td>1.000000</td>\n",
              "      <td>...</td>\n",
              "      <td>1.000000</td>\n",
              "      <td>1.000000</td>\n",
              "      <td>1.000000</td>\n",
              "      <td>1.000000</td>\n",
              "      <td>1.000000</td>\n",
              "      <td>1.000000</td>\n",
              "      <td>1.000000</td>\n",
              "      <td>1.000000</td>\n",
              "      <td>1.000000</td>\n",
              "      <td>1.000000</td>\n",
              "    </tr>\n",
              "    <tr>\n",
              "      <th>25%</th>\n",
              "      <td>1.000000</td>\n",
              "      <td>4.000000</td>\n",
              "      <td>9.000000</td>\n",
              "      <td>1.000000</td>\n",
              "      <td>9.000000</td>\n",
              "      <td>9.000000</td>\n",
              "      <td>7.000000</td>\n",
              "      <td>1.000000</td>\n",
              "      <td>2.000000</td>\n",
              "      <td>2.000000</td>\n",
              "      <td>...</td>\n",
              "      <td>2.000000</td>\n",
              "      <td>2.000000</td>\n",
              "      <td>2.000000</td>\n",
              "      <td>2.000000</td>\n",
              "      <td>2.000000</td>\n",
              "      <td>2.000000</td>\n",
              "      <td>1.000000</td>\n",
              "      <td>2.000000</td>\n",
              "      <td>99.000000</td>\n",
              "      <td>2.000000</td>\n",
              "    </tr>\n",
              "    <tr>\n",
              "      <th>50%</th>\n",
              "      <td>2.000000</td>\n",
              "      <td>12.000000</td>\n",
              "      <td>14.000000</td>\n",
              "      <td>2.000000</td>\n",
              "      <td>14.000000</td>\n",
              "      <td>14.000000</td>\n",
              "      <td>19.000000</td>\n",
              "      <td>1.000000</td>\n",
              "      <td>97.000000</td>\n",
              "      <td>2.000000</td>\n",
              "      <td>...</td>\n",
              "      <td>2.000000</td>\n",
              "      <td>2.000000</td>\n",
              "      <td>2.000000</td>\n",
              "      <td>2.000000</td>\n",
              "      <td>2.000000</td>\n",
              "      <td>2.000000</td>\n",
              "      <td>2.000000</td>\n",
              "      <td>2.000000</td>\n",
              "      <td>99.000000</td>\n",
              "      <td>97.000000</td>\n",
              "    </tr>\n",
              "    <tr>\n",
              "      <th>75%</th>\n",
              "      <td>2.000000</td>\n",
              "      <td>12.000000</td>\n",
              "      <td>20.000000</td>\n",
              "      <td>2.000000</td>\n",
              "      <td>21.000000</td>\n",
              "      <td>20.000000</td>\n",
              "      <td>44.000000</td>\n",
              "      <td>2.000000</td>\n",
              "      <td>97.000000</td>\n",
              "      <td>2.000000</td>\n",
              "      <td>...</td>\n",
              "      <td>2.000000</td>\n",
              "      <td>2.000000</td>\n",
              "      <td>2.000000</td>\n",
              "      <td>2.000000</td>\n",
              "      <td>2.000000</td>\n",
              "      <td>2.000000</td>\n",
              "      <td>99.000000</td>\n",
              "      <td>2.000000</td>\n",
              "      <td>99.000000</td>\n",
              "      <td>97.000000</td>\n",
              "    </tr>\n",
              "    <tr>\n",
              "      <th>max</th>\n",
              "      <td>2.000000</td>\n",
              "      <td>99.000000</td>\n",
              "      <td>32.000000</td>\n",
              "      <td>2.000000</td>\n",
              "      <td>99.000000</td>\n",
              "      <td>32.000000</td>\n",
              "      <td>999.000000</td>\n",
              "      <td>2.000000</td>\n",
              "      <td>99.000000</td>\n",
              "      <td>99.000000</td>\n",
              "      <td>...</td>\n",
              "      <td>98.000000</td>\n",
              "      <td>98.000000</td>\n",
              "      <td>98.000000</td>\n",
              "      <td>98.000000</td>\n",
              "      <td>98.000000</td>\n",
              "      <td>98.000000</td>\n",
              "      <td>99.000000</td>\n",
              "      <td>3.000000</td>\n",
              "      <td>99.000000</td>\n",
              "      <td>99.000000</td>\n",
              "    </tr>\n",
              "  </tbody>\n",
              "</table>\n",
              "<p>8 rows × 28 columns</p>\n",
              "</div>\n",
              "      <button class=\"colab-df-convert\" onclick=\"convertToInteractive('df-4a4a49bc-8d5c-43c7-8add-9984c76c9ef0')\"\n",
              "              title=\"Convert this dataframe to an interactive table.\"\n",
              "              style=\"display:none;\">\n",
              "        \n",
              "  <svg xmlns=\"http://www.w3.org/2000/svg\" height=\"24px\"viewBox=\"0 0 24 24\"\n",
              "       width=\"24px\">\n",
              "    <path d=\"M0 0h24v24H0V0z\" fill=\"none\"/>\n",
              "    <path d=\"M18.56 5.44l.94 2.06.94-2.06 2.06-.94-2.06-.94-.94-2.06-.94 2.06-2.06.94zm-11 1L8.5 8.5l.94-2.06 2.06-.94-2.06-.94L8.5 2.5l-.94 2.06-2.06.94zm10 10l.94 2.06.94-2.06 2.06-.94-2.06-.94-.94-2.06-.94 2.06-2.06.94z\"/><path d=\"M17.41 7.96l-1.37-1.37c-.4-.4-.92-.59-1.43-.59-.52 0-1.04.2-1.43.59L10.3 9.45l-7.72 7.72c-.78.78-.78 2.05 0 2.83L4 21.41c.39.39.9.59 1.41.59.51 0 1.02-.2 1.41-.59l7.78-7.78 2.81-2.81c.8-.78.8-2.07 0-2.86zM5.41 20L4 18.59l7.72-7.72 1.47 1.35L5.41 20z\"/>\n",
              "  </svg>\n",
              "      </button>\n",
              "      \n",
              "  <style>\n",
              "    .colab-df-container {\n",
              "      display:flex;\n",
              "      flex-wrap:wrap;\n",
              "      gap: 12px;\n",
              "    }\n",
              "\n",
              "    .colab-df-convert {\n",
              "      background-color: #E8F0FE;\n",
              "      border: none;\n",
              "      border-radius: 50%;\n",
              "      cursor: pointer;\n",
              "      display: none;\n",
              "      fill: #1967D2;\n",
              "      height: 32px;\n",
              "      padding: 0 0 0 0;\n",
              "      width: 32px;\n",
              "    }\n",
              "\n",
              "    .colab-df-convert:hover {\n",
              "      background-color: #E2EBFA;\n",
              "      box-shadow: 0px 1px 2px rgba(60, 64, 67, 0.3), 0px 1px 3px 1px rgba(60, 64, 67, 0.15);\n",
              "      fill: #174EA6;\n",
              "    }\n",
              "\n",
              "    [theme=dark] .colab-df-convert {\n",
              "      background-color: #3B4455;\n",
              "      fill: #D2E3FC;\n",
              "    }\n",
              "\n",
              "    [theme=dark] .colab-df-convert:hover {\n",
              "      background-color: #434B5C;\n",
              "      box-shadow: 0px 1px 3px 1px rgba(0, 0, 0, 0.15);\n",
              "      filter: drop-shadow(0px 1px 2px rgba(0, 0, 0, 0.3));\n",
              "      fill: #FFFFFF;\n",
              "    }\n",
              "  </style>\n",
              "\n",
              "      <script>\n",
              "        const buttonEl =\n",
              "          document.querySelector('#df-4a4a49bc-8d5c-43c7-8add-9984c76c9ef0 button.colab-df-convert');\n",
              "        buttonEl.style.display =\n",
              "          google.colab.kernel.accessAllowed ? 'block' : 'none';\n",
              "\n",
              "        async function convertToInteractive(key) {\n",
              "          const element = document.querySelector('#df-4a4a49bc-8d5c-43c7-8add-9984c76c9ef0');\n",
              "          const dataTable =\n",
              "            await google.colab.kernel.invokeFunction('convertToInteractive',\n",
              "                                                     [key], {});\n",
              "          if (!dataTable) return;\n",
              "\n",
              "          const docLinkHtml = 'Like what you see? Visit the ' +\n",
              "            '<a target=\"_blank\" href=https://colab.research.google.com/notebooks/data_table.ipynb>data table notebook</a>'\n",
              "            + ' to learn more about interactive tables.';\n",
              "          element.innerHTML = '';\n",
              "          dataTable['output_type'] = 'display_data';\n",
              "          await google.colab.output.renderOutput(dataTable, element);\n",
              "          const docLink = document.createElement('div');\n",
              "          docLink.innerHTML = docLinkHtml;\n",
              "          element.appendChild(docLink);\n",
              "        }\n",
              "      </script>\n",
              "    </div>\n",
              "  </div>\n",
              "  "
            ]
          },
          "metadata": {},
          "execution_count": 6
        }
      ]
    },
    {
      "cell_type": "code",
      "source": [
        "df.shape"
      ],
      "metadata": {
        "colab": {
          "base_uri": "https://localhost:8080/"
        },
        "id": "axRnXNZTYOmn",
        "outputId": "cbd6438c-1504-4a80-f7ba-53225bb2821c"
      },
      "execution_count": null,
      "outputs": [
        {
          "output_type": "execute_result",
          "data": {
            "text/plain": [
              "(91188, 35)"
            ]
          },
          "metadata": {},
          "execution_count": 7
        }
      ]
    },
    {
      "cell_type": "markdown",
      "source": [
        "## Exploratory Data Analysis"
      ],
      "metadata": {
        "id": "Z7iB5cGkb8MH"
      }
    },
    {
      "cell_type": "code",
      "source": [
        "## Removing the variables which are not relevant\n",
        "df = df[df.columns[~df.columns.isin(\n",
        "    ['UPDATE DATE', 'REGISTRATION ID',\n",
        "     'ORIGIN', 'SECTOR', 'NAC ENTITY',\n",
        "     'MUNICIPALITY RES', 'ENTRY DATE', 'SYMPTOMS DATE', 'DEATH DATE', 'INCUBATION', 'NATIONALITY', 'MIGRANT',\n",
        "      'COUNTRY_ORIGEN','PREGNANCY'])]]"
      ],
      "metadata": {
        "id": "SWRlQLMZYVKM"
      },
      "execution_count": null,
      "outputs": []
    },
    {
      "cell_type": "markdown",
      "source": [
        "After importing the data frames dropped the all DATE columns along with nationality and information related to province/state because it will not help for our analysis"
      ],
      "metadata": {
        "id": "b0Ui9H9dYcj6"
      }
    },
    {
      "cell_type": "code",
      "source": [
        "df.columns"
      ],
      "metadata": {
        "colab": {
          "base_uri": "https://localhost:8080/"
        },
        "id": "PNlhv-spYoBP",
        "outputId": "6c60135e-e90b-46c6-a3c4-4bb2efb91c9c"
      },
      "execution_count": null,
      "outputs": [
        {
          "output_type": "execute_result",
          "data": {
            "text/plain": [
              "Index(['ENTITY UM', 'SEX', 'ENTITY RES', 'PATIENT TYPE', 'PNEUMONIA', 'AGE',\n",
              "       'INDIGENOUS_LANG', 'DIABETES', 'COPD', 'ASTHMA', 'INMUSUPR',\n",
              "       'HYPERTENSION', 'OTHERCOM', 'CARDIOVASCULAR', 'OBESITY',\n",
              "       'CHRONIC_KIDNEY', 'SMOKING', 'OTHERCASE', 'RESULT',\n",
              "       'COUNTRY_NATIONALITY', 'ICU'],\n",
              "      dtype='object')"
            ]
          },
          "metadata": {},
          "execution_count": 9
        }
      ]
    },
    {
      "cell_type": "code",
      "source": [
        "df.head(5)"
      ],
      "metadata": {
        "colab": {
          "base_uri": "https://localhost:8080/",
          "height": 317
        },
        "id": "lGRnumJzYpPG",
        "outputId": "8b11f712-9077-475d-d8a8-2a3b88cc120e"
      },
      "execution_count": null,
      "outputs": [
        {
          "output_type": "execute_result",
          "data": {
            "text/plain": [
              "   ENTITY UM  SEX  ENTITY RES  PATIENT TYPE  PNEUMONIA  AGE  INDIGENOUS_LANG  \\\n",
              "0          2    1           2             1          2   38                2   \n",
              "1         28    1          28             1          2   31                2   \n",
              "2          2    2           2             1          2   39                2   \n",
              "3          9    2           9             1          2   46                2   \n",
              "4         25    2          25             1          2   34                2   \n",
              "\n",
              "   DIABETES  COPD  ASTHMA  ...  HYPERTENSION  OTHERCOM  CARDIOVASCULAR  \\\n",
              "0         2     2       2  ...             2         2               2   \n",
              "1         2     2       2  ...             2         2               2   \n",
              "2         2     2       2  ...             2         2               2   \n",
              "3         2     2       2  ...             2         2               2   \n",
              "4         2     2       2  ...             2         2               2   \n",
              "\n",
              "   OBESITY  CHRONIC_KIDNEY  SMOKING  OTHERCASE  RESULT  COUNTRY_NATIONALITY  \\\n",
              "0        2               2        2         99       1              MÃ©xico   \n",
              "1        2               2        2          1       2              MÃ©xico   \n",
              "2        2               2        2         99       1              MÃ©xico   \n",
              "3        2               2        2          1       1              MÃ©xico   \n",
              "4        2               2        1          2       1              MÃ©xico   \n",
              "\n",
              "  ICU  \n",
              "0  97  \n",
              "1  97  \n",
              "2  97  \n",
              "3  97  \n",
              "4  97  \n",
              "\n",
              "[5 rows x 21 columns]"
            ],
            "text/html": [
              "\n",
              "  <div id=\"df-092fb6a6-e3b9-4113-b08f-f02717a92449\">\n",
              "    <div class=\"colab-df-container\">\n",
              "      <div>\n",
              "<style scoped>\n",
              "    .dataframe tbody tr th:only-of-type {\n",
              "        vertical-align: middle;\n",
              "    }\n",
              "\n",
              "    .dataframe tbody tr th {\n",
              "        vertical-align: top;\n",
              "    }\n",
              "\n",
              "    .dataframe thead th {\n",
              "        text-align: right;\n",
              "    }\n",
              "</style>\n",
              "<table border=\"1\" class=\"dataframe\">\n",
              "  <thead>\n",
              "    <tr style=\"text-align: right;\">\n",
              "      <th></th>\n",
              "      <th>ENTITY UM</th>\n",
              "      <th>SEX</th>\n",
              "      <th>ENTITY RES</th>\n",
              "      <th>PATIENT TYPE</th>\n",
              "      <th>PNEUMONIA</th>\n",
              "      <th>AGE</th>\n",
              "      <th>INDIGENOUS_LANG</th>\n",
              "      <th>DIABETES</th>\n",
              "      <th>COPD</th>\n",
              "      <th>ASTHMA</th>\n",
              "      <th>...</th>\n",
              "      <th>HYPERTENSION</th>\n",
              "      <th>OTHERCOM</th>\n",
              "      <th>CARDIOVASCULAR</th>\n",
              "      <th>OBESITY</th>\n",
              "      <th>CHRONIC_KIDNEY</th>\n",
              "      <th>SMOKING</th>\n",
              "      <th>OTHERCASE</th>\n",
              "      <th>RESULT</th>\n",
              "      <th>COUNTRY_NATIONALITY</th>\n",
              "      <th>ICU</th>\n",
              "    </tr>\n",
              "  </thead>\n",
              "  <tbody>\n",
              "    <tr>\n",
              "      <th>0</th>\n",
              "      <td>2</td>\n",
              "      <td>1</td>\n",
              "      <td>2</td>\n",
              "      <td>1</td>\n",
              "      <td>2</td>\n",
              "      <td>38</td>\n",
              "      <td>2</td>\n",
              "      <td>2</td>\n",
              "      <td>2</td>\n",
              "      <td>2</td>\n",
              "      <td>...</td>\n",
              "      <td>2</td>\n",
              "      <td>2</td>\n",
              "      <td>2</td>\n",
              "      <td>2</td>\n",
              "      <td>2</td>\n",
              "      <td>2</td>\n",
              "      <td>99</td>\n",
              "      <td>1</td>\n",
              "      <td>MÃ©xico</td>\n",
              "      <td>97</td>\n",
              "    </tr>\n",
              "    <tr>\n",
              "      <th>1</th>\n",
              "      <td>28</td>\n",
              "      <td>1</td>\n",
              "      <td>28</td>\n",
              "      <td>1</td>\n",
              "      <td>2</td>\n",
              "      <td>31</td>\n",
              "      <td>2</td>\n",
              "      <td>2</td>\n",
              "      <td>2</td>\n",
              "      <td>2</td>\n",
              "      <td>...</td>\n",
              "      <td>2</td>\n",
              "      <td>2</td>\n",
              "      <td>2</td>\n",
              "      <td>2</td>\n",
              "      <td>2</td>\n",
              "      <td>2</td>\n",
              "      <td>1</td>\n",
              "      <td>2</td>\n",
              "      <td>MÃ©xico</td>\n",
              "      <td>97</td>\n",
              "    </tr>\n",
              "    <tr>\n",
              "      <th>2</th>\n",
              "      <td>2</td>\n",
              "      <td>2</td>\n",
              "      <td>2</td>\n",
              "      <td>1</td>\n",
              "      <td>2</td>\n",
              "      <td>39</td>\n",
              "      <td>2</td>\n",
              "      <td>2</td>\n",
              "      <td>2</td>\n",
              "      <td>2</td>\n",
              "      <td>...</td>\n",
              "      <td>2</td>\n",
              "      <td>2</td>\n",
              "      <td>2</td>\n",
              "      <td>2</td>\n",
              "      <td>2</td>\n",
              "      <td>2</td>\n",
              "      <td>99</td>\n",
              "      <td>1</td>\n",
              "      <td>MÃ©xico</td>\n",
              "      <td>97</td>\n",
              "    </tr>\n",
              "    <tr>\n",
              "      <th>3</th>\n",
              "      <td>9</td>\n",
              "      <td>2</td>\n",
              "      <td>9</td>\n",
              "      <td>1</td>\n",
              "      <td>2</td>\n",
              "      <td>46</td>\n",
              "      <td>2</td>\n",
              "      <td>2</td>\n",
              "      <td>2</td>\n",
              "      <td>2</td>\n",
              "      <td>...</td>\n",
              "      <td>2</td>\n",
              "      <td>2</td>\n",
              "      <td>2</td>\n",
              "      <td>2</td>\n",
              "      <td>2</td>\n",
              "      <td>2</td>\n",
              "      <td>1</td>\n",
              "      <td>1</td>\n",
              "      <td>MÃ©xico</td>\n",
              "      <td>97</td>\n",
              "    </tr>\n",
              "    <tr>\n",
              "      <th>4</th>\n",
              "      <td>25</td>\n",
              "      <td>2</td>\n",
              "      <td>25</td>\n",
              "      <td>1</td>\n",
              "      <td>2</td>\n",
              "      <td>34</td>\n",
              "      <td>2</td>\n",
              "      <td>2</td>\n",
              "      <td>2</td>\n",
              "      <td>2</td>\n",
              "      <td>...</td>\n",
              "      <td>2</td>\n",
              "      <td>2</td>\n",
              "      <td>2</td>\n",
              "      <td>2</td>\n",
              "      <td>2</td>\n",
              "      <td>1</td>\n",
              "      <td>2</td>\n",
              "      <td>1</td>\n",
              "      <td>MÃ©xico</td>\n",
              "      <td>97</td>\n",
              "    </tr>\n",
              "  </tbody>\n",
              "</table>\n",
              "<p>5 rows × 21 columns</p>\n",
              "</div>\n",
              "      <button class=\"colab-df-convert\" onclick=\"convertToInteractive('df-092fb6a6-e3b9-4113-b08f-f02717a92449')\"\n",
              "              title=\"Convert this dataframe to an interactive table.\"\n",
              "              style=\"display:none;\">\n",
              "        \n",
              "  <svg xmlns=\"http://www.w3.org/2000/svg\" height=\"24px\"viewBox=\"0 0 24 24\"\n",
              "       width=\"24px\">\n",
              "    <path d=\"M0 0h24v24H0V0z\" fill=\"none\"/>\n",
              "    <path d=\"M18.56 5.44l.94 2.06.94-2.06 2.06-.94-2.06-.94-.94-2.06-.94 2.06-2.06.94zm-11 1L8.5 8.5l.94-2.06 2.06-.94-2.06-.94L8.5 2.5l-.94 2.06-2.06.94zm10 10l.94 2.06.94-2.06 2.06-.94-2.06-.94-.94-2.06-.94 2.06-2.06.94z\"/><path d=\"M17.41 7.96l-1.37-1.37c-.4-.4-.92-.59-1.43-.59-.52 0-1.04.2-1.43.59L10.3 9.45l-7.72 7.72c-.78.78-.78 2.05 0 2.83L4 21.41c.39.39.9.59 1.41.59.51 0 1.02-.2 1.41-.59l7.78-7.78 2.81-2.81c.8-.78.8-2.07 0-2.86zM5.41 20L4 18.59l7.72-7.72 1.47 1.35L5.41 20z\"/>\n",
              "  </svg>\n",
              "      </button>\n",
              "      \n",
              "  <style>\n",
              "    .colab-df-container {\n",
              "      display:flex;\n",
              "      flex-wrap:wrap;\n",
              "      gap: 12px;\n",
              "    }\n",
              "\n",
              "    .colab-df-convert {\n",
              "      background-color: #E8F0FE;\n",
              "      border: none;\n",
              "      border-radius: 50%;\n",
              "      cursor: pointer;\n",
              "      display: none;\n",
              "      fill: #1967D2;\n",
              "      height: 32px;\n",
              "      padding: 0 0 0 0;\n",
              "      width: 32px;\n",
              "    }\n",
              "\n",
              "    .colab-df-convert:hover {\n",
              "      background-color: #E2EBFA;\n",
              "      box-shadow: 0px 1px 2px rgba(60, 64, 67, 0.3), 0px 1px 3px 1px rgba(60, 64, 67, 0.15);\n",
              "      fill: #174EA6;\n",
              "    }\n",
              "\n",
              "    [theme=dark] .colab-df-convert {\n",
              "      background-color: #3B4455;\n",
              "      fill: #D2E3FC;\n",
              "    }\n",
              "\n",
              "    [theme=dark] .colab-df-convert:hover {\n",
              "      background-color: #434B5C;\n",
              "      box-shadow: 0px 1px 3px 1px rgba(0, 0, 0, 0.15);\n",
              "      filter: drop-shadow(0px 1px 2px rgba(0, 0, 0, 0.3));\n",
              "      fill: #FFFFFF;\n",
              "    }\n",
              "  </style>\n",
              "\n",
              "      <script>\n",
              "        const buttonEl =\n",
              "          document.querySelector('#df-092fb6a6-e3b9-4113-b08f-f02717a92449 button.colab-df-convert');\n",
              "        buttonEl.style.display =\n",
              "          google.colab.kernel.accessAllowed ? 'block' : 'none';\n",
              "\n",
              "        async function convertToInteractive(key) {\n",
              "          const element = document.querySelector('#df-092fb6a6-e3b9-4113-b08f-f02717a92449');\n",
              "          const dataTable =\n",
              "            await google.colab.kernel.invokeFunction('convertToInteractive',\n",
              "                                                     [key], {});\n",
              "          if (!dataTable) return;\n",
              "\n",
              "          const docLinkHtml = 'Like what you see? Visit the ' +\n",
              "            '<a target=\"_blank\" href=https://colab.research.google.com/notebooks/data_table.ipynb>data table notebook</a>'\n",
              "            + ' to learn more about interactive tables.';\n",
              "          element.innerHTML = '';\n",
              "          dataTable['output_type'] = 'display_data';\n",
              "          await google.colab.output.renderOutput(dataTable, element);\n",
              "          const docLink = document.createElement('div');\n",
              "          docLink.innerHTML = docLinkHtml;\n",
              "          element.appendChild(docLink);\n",
              "        }\n",
              "      </script>\n",
              "    </div>\n",
              "  </div>\n",
              "  "
            ]
          },
          "metadata": {},
          "execution_count": 10
        }
      ]
    },
    {
      "cell_type": "markdown",
      "source": [
        "The columns \"ENTITY RES\" and \"\tENTITY UM\" refer to the state of residence and treatment place respectively. These are coded by numbers so that they can be replaced by their respective names."
      ],
      "metadata": {
        "id": "OagfleGqYukx"
      }
    },
    {
      "cell_type": "code",
      "source": [
        "# Entity um and entity res represents the place where the care is provided and patient is located\n",
        "entity_um_res = {1 : 'AGUASCALIENTES',\n",
        "2 : 'BAJA CALIFORNIA',\n",
        "3 : 'BAJA CALIFORNIA SUR',\n",
        "4 : 'CAMPECHE',\n",
        "5 : 'COAHUILA DE ZARAGOZA',\n",
        "6 : 'COLIMA',\n",
        "7 : 'CHIAPAS',\n",
        "8 : 'CHIHUAHUA',\n",
        "9 : 'CIUDAD DE MÉXICO',\n",
        "10 : 'DURANGO',\n",
        "11 : 'GUANAJUATO',\n",
        "12 : 'GUERRERO',\n",
        "13 : 'HIDALGO',\n",
        "14 : 'JALISCO',\n",
        "15 : 'MÉXICO',\n",
        "16 : 'MICHOACÁN DE OCAMPO',\n",
        "17 : 'MORELOS',\n",
        "18 : 'NAYARIT',\n",
        "19 : 'NUEVO LEÓN',\n",
        "20 : 'OAXACA',\n",
        "21 : 'PUEBLA',\n",
        "22 : 'QUERÉTARO',\n",
        "23 : 'QUINTANA ROO',\n",
        "24 : 'SAN LUIS POTOSÍ',\n",
        "25 : 'SINALOA',\n",
        "26 : 'SONORA',\n",
        "27 : 'TABASCO',\n",
        "28 : 'TAMAULIPAS',\n",
        "29 : 'TLAXCALA',\n",
        "30 : 'VERACRUZ DE IGNACIO DE LA LLAVE',\n",
        "31 : 'YUCATÁN',\n",
        "32 : 'ZACATECAS',\n",
        "36 : 'ESTADOS UNIDOS MEXICANOS',\n",
        "97 : 'NOT APPLICABLE',\n",
        "98 : 'IGNORED',\n",
        "99 : 'NOT SPECIFIED'}\n"
      ],
      "metadata": {
        "id": "-VfrgDxQYvZG"
      },
      "execution_count": null,
      "outputs": []
    },
    {
      "cell_type": "code",
      "source": [
        "#Remapping Column ENTITY UM and ENTITY RES Values with a Dict\n",
        "df2=df.replace({\"ENTITY UM\": entity_um_res})\n",
        "df2=df2.replace({\"ENTITY RES\": entity_um_res})\n",
        "\n",
        "df2.head(5)"
      ],
      "metadata": {
        "colab": {
          "base_uri": "https://localhost:8080/",
          "height": 369
        },
        "id": "Kx0ii35gY39i",
        "outputId": "f9a4961b-a894-4521-98e9-eb90750cf0fb"
      },
      "execution_count": null,
      "outputs": [
        {
          "output_type": "execute_result",
          "data": {
            "text/plain": [
              "          ENTITY UM  SEX        ENTITY RES  PATIENT TYPE  PNEUMONIA  AGE  \\\n",
              "0   BAJA CALIFORNIA    1   BAJA CALIFORNIA             1          2   38   \n",
              "1        TAMAULIPAS    1        TAMAULIPAS             1          2   31   \n",
              "2   BAJA CALIFORNIA    2   BAJA CALIFORNIA             1          2   39   \n",
              "3  CIUDAD DE MÉXICO    2  CIUDAD DE MÉXICO             1          2   46   \n",
              "4           SINALOA    2           SINALOA             1          2   34   \n",
              "\n",
              "   INDIGENOUS_LANG  DIABETES  COPD  ASTHMA  ...  HYPERTENSION  OTHERCOM  \\\n",
              "0                2         2     2       2  ...             2         2   \n",
              "1                2         2     2       2  ...             2         2   \n",
              "2                2         2     2       2  ...             2         2   \n",
              "3                2         2     2       2  ...             2         2   \n",
              "4                2         2     2       2  ...             2         2   \n",
              "\n",
              "   CARDIOVASCULAR  OBESITY  CHRONIC_KIDNEY  SMOKING  OTHERCASE  RESULT  \\\n",
              "0               2        2               2        2         99       1   \n",
              "1               2        2               2        2          1       2   \n",
              "2               2        2               2        2         99       1   \n",
              "3               2        2               2        2          1       1   \n",
              "4               2        2               2        1          2       1   \n",
              "\n",
              "   COUNTRY_NATIONALITY ICU  \n",
              "0              MÃ©xico  97  \n",
              "1              MÃ©xico  97  \n",
              "2              MÃ©xico  97  \n",
              "3              MÃ©xico  97  \n",
              "4              MÃ©xico  97  \n",
              "\n",
              "[5 rows x 21 columns]"
            ],
            "text/html": [
              "\n",
              "  <div id=\"df-d9ff9b69-bae0-4155-a946-c3597e2ea5e6\">\n",
              "    <div class=\"colab-df-container\">\n",
              "      <div>\n",
              "<style scoped>\n",
              "    .dataframe tbody tr th:only-of-type {\n",
              "        vertical-align: middle;\n",
              "    }\n",
              "\n",
              "    .dataframe tbody tr th {\n",
              "        vertical-align: top;\n",
              "    }\n",
              "\n",
              "    .dataframe thead th {\n",
              "        text-align: right;\n",
              "    }\n",
              "</style>\n",
              "<table border=\"1\" class=\"dataframe\">\n",
              "  <thead>\n",
              "    <tr style=\"text-align: right;\">\n",
              "      <th></th>\n",
              "      <th>ENTITY UM</th>\n",
              "      <th>SEX</th>\n",
              "      <th>ENTITY RES</th>\n",
              "      <th>PATIENT TYPE</th>\n",
              "      <th>PNEUMONIA</th>\n",
              "      <th>AGE</th>\n",
              "      <th>INDIGENOUS_LANG</th>\n",
              "      <th>DIABETES</th>\n",
              "      <th>COPD</th>\n",
              "      <th>ASTHMA</th>\n",
              "      <th>...</th>\n",
              "      <th>HYPERTENSION</th>\n",
              "      <th>OTHERCOM</th>\n",
              "      <th>CARDIOVASCULAR</th>\n",
              "      <th>OBESITY</th>\n",
              "      <th>CHRONIC_KIDNEY</th>\n",
              "      <th>SMOKING</th>\n",
              "      <th>OTHERCASE</th>\n",
              "      <th>RESULT</th>\n",
              "      <th>COUNTRY_NATIONALITY</th>\n",
              "      <th>ICU</th>\n",
              "    </tr>\n",
              "  </thead>\n",
              "  <tbody>\n",
              "    <tr>\n",
              "      <th>0</th>\n",
              "      <td>BAJA CALIFORNIA</td>\n",
              "      <td>1</td>\n",
              "      <td>BAJA CALIFORNIA</td>\n",
              "      <td>1</td>\n",
              "      <td>2</td>\n",
              "      <td>38</td>\n",
              "      <td>2</td>\n",
              "      <td>2</td>\n",
              "      <td>2</td>\n",
              "      <td>2</td>\n",
              "      <td>...</td>\n",
              "      <td>2</td>\n",
              "      <td>2</td>\n",
              "      <td>2</td>\n",
              "      <td>2</td>\n",
              "      <td>2</td>\n",
              "      <td>2</td>\n",
              "      <td>99</td>\n",
              "      <td>1</td>\n",
              "      <td>MÃ©xico</td>\n",
              "      <td>97</td>\n",
              "    </tr>\n",
              "    <tr>\n",
              "      <th>1</th>\n",
              "      <td>TAMAULIPAS</td>\n",
              "      <td>1</td>\n",
              "      <td>TAMAULIPAS</td>\n",
              "      <td>1</td>\n",
              "      <td>2</td>\n",
              "      <td>31</td>\n",
              "      <td>2</td>\n",
              "      <td>2</td>\n",
              "      <td>2</td>\n",
              "      <td>2</td>\n",
              "      <td>...</td>\n",
              "      <td>2</td>\n",
              "      <td>2</td>\n",
              "      <td>2</td>\n",
              "      <td>2</td>\n",
              "      <td>2</td>\n",
              "      <td>2</td>\n",
              "      <td>1</td>\n",
              "      <td>2</td>\n",
              "      <td>MÃ©xico</td>\n",
              "      <td>97</td>\n",
              "    </tr>\n",
              "    <tr>\n",
              "      <th>2</th>\n",
              "      <td>BAJA CALIFORNIA</td>\n",
              "      <td>2</td>\n",
              "      <td>BAJA CALIFORNIA</td>\n",
              "      <td>1</td>\n",
              "      <td>2</td>\n",
              "      <td>39</td>\n",
              "      <td>2</td>\n",
              "      <td>2</td>\n",
              "      <td>2</td>\n",
              "      <td>2</td>\n",
              "      <td>...</td>\n",
              "      <td>2</td>\n",
              "      <td>2</td>\n",
              "      <td>2</td>\n",
              "      <td>2</td>\n",
              "      <td>2</td>\n",
              "      <td>2</td>\n",
              "      <td>99</td>\n",
              "      <td>1</td>\n",
              "      <td>MÃ©xico</td>\n",
              "      <td>97</td>\n",
              "    </tr>\n",
              "    <tr>\n",
              "      <th>3</th>\n",
              "      <td>CIUDAD DE MÉXICO</td>\n",
              "      <td>2</td>\n",
              "      <td>CIUDAD DE MÉXICO</td>\n",
              "      <td>1</td>\n",
              "      <td>2</td>\n",
              "      <td>46</td>\n",
              "      <td>2</td>\n",
              "      <td>2</td>\n",
              "      <td>2</td>\n",
              "      <td>2</td>\n",
              "      <td>...</td>\n",
              "      <td>2</td>\n",
              "      <td>2</td>\n",
              "      <td>2</td>\n",
              "      <td>2</td>\n",
              "      <td>2</td>\n",
              "      <td>2</td>\n",
              "      <td>1</td>\n",
              "      <td>1</td>\n",
              "      <td>MÃ©xico</td>\n",
              "      <td>97</td>\n",
              "    </tr>\n",
              "    <tr>\n",
              "      <th>4</th>\n",
              "      <td>SINALOA</td>\n",
              "      <td>2</td>\n",
              "      <td>SINALOA</td>\n",
              "      <td>1</td>\n",
              "      <td>2</td>\n",
              "      <td>34</td>\n",
              "      <td>2</td>\n",
              "      <td>2</td>\n",
              "      <td>2</td>\n",
              "      <td>2</td>\n",
              "      <td>...</td>\n",
              "      <td>2</td>\n",
              "      <td>2</td>\n",
              "      <td>2</td>\n",
              "      <td>2</td>\n",
              "      <td>2</td>\n",
              "      <td>1</td>\n",
              "      <td>2</td>\n",
              "      <td>1</td>\n",
              "      <td>MÃ©xico</td>\n",
              "      <td>97</td>\n",
              "    </tr>\n",
              "  </tbody>\n",
              "</table>\n",
              "<p>5 rows × 21 columns</p>\n",
              "</div>\n",
              "      <button class=\"colab-df-convert\" onclick=\"convertToInteractive('df-d9ff9b69-bae0-4155-a946-c3597e2ea5e6')\"\n",
              "              title=\"Convert this dataframe to an interactive table.\"\n",
              "              style=\"display:none;\">\n",
              "        \n",
              "  <svg xmlns=\"http://www.w3.org/2000/svg\" height=\"24px\"viewBox=\"0 0 24 24\"\n",
              "       width=\"24px\">\n",
              "    <path d=\"M0 0h24v24H0V0z\" fill=\"none\"/>\n",
              "    <path d=\"M18.56 5.44l.94 2.06.94-2.06 2.06-.94-2.06-.94-.94-2.06-.94 2.06-2.06.94zm-11 1L8.5 8.5l.94-2.06 2.06-.94-2.06-.94L8.5 2.5l-.94 2.06-2.06.94zm10 10l.94 2.06.94-2.06 2.06-.94-2.06-.94-.94-2.06-.94 2.06-2.06.94z\"/><path d=\"M17.41 7.96l-1.37-1.37c-.4-.4-.92-.59-1.43-.59-.52 0-1.04.2-1.43.59L10.3 9.45l-7.72 7.72c-.78.78-.78 2.05 0 2.83L4 21.41c.39.39.9.59 1.41.59.51 0 1.02-.2 1.41-.59l7.78-7.78 2.81-2.81c.8-.78.8-2.07 0-2.86zM5.41 20L4 18.59l7.72-7.72 1.47 1.35L5.41 20z\"/>\n",
              "  </svg>\n",
              "      </button>\n",
              "      \n",
              "  <style>\n",
              "    .colab-df-container {\n",
              "      display:flex;\n",
              "      flex-wrap:wrap;\n",
              "      gap: 12px;\n",
              "    }\n",
              "\n",
              "    .colab-df-convert {\n",
              "      background-color: #E8F0FE;\n",
              "      border: none;\n",
              "      border-radius: 50%;\n",
              "      cursor: pointer;\n",
              "      display: none;\n",
              "      fill: #1967D2;\n",
              "      height: 32px;\n",
              "      padding: 0 0 0 0;\n",
              "      width: 32px;\n",
              "    }\n",
              "\n",
              "    .colab-df-convert:hover {\n",
              "      background-color: #E2EBFA;\n",
              "      box-shadow: 0px 1px 2px rgba(60, 64, 67, 0.3), 0px 1px 3px 1px rgba(60, 64, 67, 0.15);\n",
              "      fill: #174EA6;\n",
              "    }\n",
              "\n",
              "    [theme=dark] .colab-df-convert {\n",
              "      background-color: #3B4455;\n",
              "      fill: #D2E3FC;\n",
              "    }\n",
              "\n",
              "    [theme=dark] .colab-df-convert:hover {\n",
              "      background-color: #434B5C;\n",
              "      box-shadow: 0px 1px 3px 1px rgba(0, 0, 0, 0.15);\n",
              "      filter: drop-shadow(0px 1px 2px rgba(0, 0, 0, 0.3));\n",
              "      fill: #FFFFFF;\n",
              "    }\n",
              "  </style>\n",
              "\n",
              "      <script>\n",
              "        const buttonEl =\n",
              "          document.querySelector('#df-d9ff9b69-bae0-4155-a946-c3597e2ea5e6 button.colab-df-convert');\n",
              "        buttonEl.style.display =\n",
              "          google.colab.kernel.accessAllowed ? 'block' : 'none';\n",
              "\n",
              "        async function convertToInteractive(key) {\n",
              "          const element = document.querySelector('#df-d9ff9b69-bae0-4155-a946-c3597e2ea5e6');\n",
              "          const dataTable =\n",
              "            await google.colab.kernel.invokeFunction('convertToInteractive',\n",
              "                                                     [key], {});\n",
              "          if (!dataTable) return;\n",
              "\n",
              "          const docLinkHtml = 'Like what you see? Visit the ' +\n",
              "            '<a target=\"_blank\" href=https://colab.research.google.com/notebooks/data_table.ipynb>data table notebook</a>'\n",
              "            + ' to learn more about interactive tables.';\n",
              "          element.innerHTML = '';\n",
              "          dataTable['output_type'] = 'display_data';\n",
              "          await google.colab.output.renderOutput(dataTable, element);\n",
              "          const docLink = document.createElement('div');\n",
              "          docLink.innerHTML = docLinkHtml;\n",
              "          element.appendChild(docLink);\n",
              "        }\n",
              "      </script>\n",
              "    </div>\n",
              "  </div>\n",
              "  "
            ]
          },
          "metadata": {},
          "execution_count": 12
        }
      ]
    },
    {
      "cell_type": "markdown",
      "source": [
        "## Formating the columns"
      ],
      "metadata": {
        "id": "qF3mLVgLY9ge"
      }
    },
    {
      "cell_type": "markdown",
      "source": [
        "In the entire dataset 97 = 'NOT APPLICABLE', 98 = 'IGNORED', 99 = 'NOT SPECIFIED'. Removed all the values corresponding to these codes"
      ],
      "metadata": {
        "id": "m5k-JhOHZCb2"
      }
    },
    {
      "cell_type": "code",
      "source": [
        "print(df.columns)\n",
        "cat_cols = ['PNEUMONIA','INDIGENOUS_LANG','DIABETES', 'COPD', 'ASTHMA',\n",
        "       'INMUSUPR', 'HYPERTENSION', 'OTHERCOM', 'CARDIOVASCULAR', 'OBESITY',\n",
        "       'CHRONIC_KIDNEY', 'SMOKING', 'OTHERCASE', 'RESULT','ICU']\n",
        "print(cat_cols)"
      ],
      "metadata": {
        "colab": {
          "base_uri": "https://localhost:8080/"
        },
        "id": "n0LX86yZZHVZ",
        "outputId": "6e194356-38a3-4d60-9918-3d822517236f"
      },
      "execution_count": null,
      "outputs": [
        {
          "output_type": "stream",
          "name": "stdout",
          "text": [
            "Index(['ENTITY UM', 'SEX', 'ENTITY RES', 'PATIENT TYPE', 'PNEUMONIA', 'AGE',\n",
            "       'INDIGENOUS_LANG', 'DIABETES', 'COPD', 'ASTHMA', 'INMUSUPR',\n",
            "       'HYPERTENSION', 'OTHERCOM', 'CARDIOVASCULAR', 'OBESITY',\n",
            "       'CHRONIC_KIDNEY', 'SMOKING', 'OTHERCASE', 'RESULT',\n",
            "       'COUNTRY_NATIONALITY', 'ICU'],\n",
            "      dtype='object')\n",
            "['PNEUMONIA', 'INDIGENOUS_LANG', 'DIABETES', 'COPD', 'ASTHMA', 'INMUSUPR', 'HYPERTENSION', 'OTHERCOM', 'CARDIOVASCULAR', 'OBESITY', 'CHRONIC_KIDNEY', 'SMOKING', 'OTHERCASE', 'RESULT', 'ICU']\n"
          ]
        }
      ]
    },
    {
      "cell_type": "code",
      "source": [
        "for col in cat_cols:\n",
        "    print('Column ' + col)\n",
        "    print((df2[col].value_counts()).astype(str) + \" \" + (round(df2[col].value_counts()/df2[col].count()*100,2 )).astype(str) )"
      ],
      "metadata": {
        "colab": {
          "base_uri": "https://localhost:8080/"
        },
        "id": "YKe0oN48ZNca",
        "outputId": "83f89d76-ab45-4be6-82a1-92519e1d15ff"
      },
      "execution_count": null,
      "outputs": [
        {
          "output_type": "stream",
          "name": "stdout",
          "text": [
            "Column PNEUMONIA\n",
            "2     74537 81.74\n",
            "1     16643 18.25\n",
            "99         8 0.01\n",
            "Name: PNEUMONIA, dtype: object\n",
            "Column INDIGENOUS_LANG\n",
            "2     88438 96.98\n",
            "99      1764 1.93\n",
            "1        986 1.08\n",
            "Name: INDIGENOUS_LANG, dtype: object\n",
            "Column DIABETES\n",
            "2     78616 86.21\n",
            "1     12158 13.33\n",
            "98       414 0.45\n",
            "Name: DIABETES, dtype: object\n",
            "Column COPD\n",
            "2     88440 96.99\n",
            "1       2349 2.58\n",
            "98       399 0.44\n",
            "Name: COPD, dtype: object\n",
            "Column ASTHMA\n",
            "2     86623 94.99\n",
            "1       4160 4.56\n",
            "98       405 0.44\n",
            "Name: ASTHMA, dtype: object\n",
            "Column INMUSUPR\n",
            "2     88534 97.09\n",
            "1       2236 2.45\n",
            "98       418 0.46\n",
            "Name: INMUSUPR, dtype: object\n",
            "Column HYPERTENSION\n",
            "2     74918 82.16\n",
            "1      15870 17.4\n",
            "98       400 0.44\n",
            "Name: HYPERTENSION, dtype: object\n",
            "Column OTHERCOM\n",
            "2     86206 94.54\n",
            "1       4453 4.88\n",
            "98       529 0.58\n",
            "Name: OTHERCOM, dtype: object\n",
            "Column CARDIOVASCULAR\n",
            "2     87929 96.43\n",
            "1       2849 3.12\n",
            "98       410 0.45\n",
            "Name: CARDIOVASCULAR, dtype: object\n",
            "Column OBESITY\n",
            "2     76014 83.36\n",
            "1     14785 16.21\n",
            "98       389 0.43\n",
            "Name: OBESITY, dtype: object\n",
            "Column CHRONIC_KIDNEY\n",
            "2     88613 97.18\n",
            "1       2171 2.38\n",
            "98       404 0.44\n",
            "Name: CHRONIC_KIDNEY, dtype: object\n",
            "Column SMOKING\n",
            "2     81911 89.83\n",
            "1       8875 9.73\n",
            "98       402 0.44\n",
            "Name: SMOKING, dtype: object\n",
            "Column OTHERCASE\n",
            "99    33899 37.17\n",
            "2     29858 32.74\n",
            "1     27431 30.08\n",
            "Name: OTHERCASE, dtype: object\n",
            "Column RESULT\n",
            "2    55003 60.32\n",
            "1    20739 22.74\n",
            "3    15446 16.94\n",
            "Name: RESULT, dtype: object\n",
            "Column ICU\n",
            "97    67084 73.57\n",
            "2     22021 24.15\n",
            "1       2059 2.26\n",
            "99        24 0.03\n",
            "Name: ICU, dtype: object\n"
          ]
        }
      ]
    },
    {
      "cell_type": "markdown",
      "source": [
        "Only Pregnancy, Other case and ICU column has significant amount of Not applicable and Not specified values. \n",
        "In our dataset for symptoms columns, 2 = No, and 1 = Yes. For our analysis we removed all not applicable and not specified and ignored values"
      ],
      "metadata": {
        "id": "zUnuJfenZSbC"
      }
    },
    {
      "cell_type": "code",
      "source": [
        "for col in cat_cols:\n",
        "    #df2[c] = df2[c].replace(97,0)\n",
        "    #df2[c] = df2[c].replace(98,0)\n",
        "    #df2[c] = df2[c].replace(99,0)\n",
        "    df2 = df2[df2[col]!=98]\n",
        "    df2 = df2[df2[col]!=99]\n",
        "    df2 = df2[df2[col]!=97]\n",
        "df2.head(5)"
      ],
      "metadata": {
        "colab": {
          "base_uri": "https://localhost:8080/",
          "height": 352
        },
        "id": "c72Dq2PwZT8s",
        "outputId": "3c692b0d-fbc5-446e-e1d0-e6642982c597"
      },
      "execution_count": null,
      "outputs": [
        {
          "output_type": "execute_result",
          "data": {
            "text/plain": [
              "              ENTITY UM  SEX           ENTITY RES  PATIENT TYPE  PNEUMONIA  \\\n",
              "5   MICHOACÁN DE OCAMPO    1  MICHOACÁN DE OCAMPO             2          2   \n",
              "19               PUEBLA    1               PUEBLA             2          2   \n",
              "29               MÉXICO    1               MÉXICO             2          1   \n",
              "34               MÉXICO    2               MÉXICO             2          1   \n",
              "40     CIUDAD DE MÉXICO    2     CIUDAD DE MÉXICO             2          1   \n",
              "\n",
              "    AGE  INDIGENOUS_LANG  DIABETES  COPD  ASTHMA  ...  HYPERTENSION  OTHERCOM  \\\n",
              "5    32                2         2     2       2  ...             2         2   \n",
              "19   27                2         2     2       2  ...             2         2   \n",
              "29   75                2         1     2       2  ...             2         2   \n",
              "34   50                2         2     2       2  ...             2         2   \n",
              "40   36                2         1     2       2  ...             2         2   \n",
              "\n",
              "    CARDIOVASCULAR  OBESITY  CHRONIC_KIDNEY  SMOKING  OTHERCASE  RESULT  \\\n",
              "5                2        2               2        2          2       2   \n",
              "19               2        2               2        2          1       1   \n",
              "29               2        2               2        2          2       1   \n",
              "34               2        2               2        2          2       2   \n",
              "40               2        2               2        2          2       3   \n",
              "\n",
              "    COUNTRY_NATIONALITY ICU  \n",
              "5               MÃ©xico   2  \n",
              "19              MÃ©xico   2  \n",
              "29              MÃ©xico   1  \n",
              "34              MÃ©xico   2  \n",
              "40              MÃ©xico   2  \n",
              "\n",
              "[5 rows x 21 columns]"
            ],
            "text/html": [
              "\n",
              "  <div id=\"df-c06b8afc-6b13-4b0d-af4f-fa4d08ae7252\">\n",
              "    <div class=\"colab-df-container\">\n",
              "      <div>\n",
              "<style scoped>\n",
              "    .dataframe tbody tr th:only-of-type {\n",
              "        vertical-align: middle;\n",
              "    }\n",
              "\n",
              "    .dataframe tbody tr th {\n",
              "        vertical-align: top;\n",
              "    }\n",
              "\n",
              "    .dataframe thead th {\n",
              "        text-align: right;\n",
              "    }\n",
              "</style>\n",
              "<table border=\"1\" class=\"dataframe\">\n",
              "  <thead>\n",
              "    <tr style=\"text-align: right;\">\n",
              "      <th></th>\n",
              "      <th>ENTITY UM</th>\n",
              "      <th>SEX</th>\n",
              "      <th>ENTITY RES</th>\n",
              "      <th>PATIENT TYPE</th>\n",
              "      <th>PNEUMONIA</th>\n",
              "      <th>AGE</th>\n",
              "      <th>INDIGENOUS_LANG</th>\n",
              "      <th>DIABETES</th>\n",
              "      <th>COPD</th>\n",
              "      <th>ASTHMA</th>\n",
              "      <th>...</th>\n",
              "      <th>HYPERTENSION</th>\n",
              "      <th>OTHERCOM</th>\n",
              "      <th>CARDIOVASCULAR</th>\n",
              "      <th>OBESITY</th>\n",
              "      <th>CHRONIC_KIDNEY</th>\n",
              "      <th>SMOKING</th>\n",
              "      <th>OTHERCASE</th>\n",
              "      <th>RESULT</th>\n",
              "      <th>COUNTRY_NATIONALITY</th>\n",
              "      <th>ICU</th>\n",
              "    </tr>\n",
              "  </thead>\n",
              "  <tbody>\n",
              "    <tr>\n",
              "      <th>5</th>\n",
              "      <td>MICHOACÁN DE OCAMPO</td>\n",
              "      <td>1</td>\n",
              "      <td>MICHOACÁN DE OCAMPO</td>\n",
              "      <td>2</td>\n",
              "      <td>2</td>\n",
              "      <td>32</td>\n",
              "      <td>2</td>\n",
              "      <td>2</td>\n",
              "      <td>2</td>\n",
              "      <td>2</td>\n",
              "      <td>...</td>\n",
              "      <td>2</td>\n",
              "      <td>2</td>\n",
              "      <td>2</td>\n",
              "      <td>2</td>\n",
              "      <td>2</td>\n",
              "      <td>2</td>\n",
              "      <td>2</td>\n",
              "      <td>2</td>\n",
              "      <td>MÃ©xico</td>\n",
              "      <td>2</td>\n",
              "    </tr>\n",
              "    <tr>\n",
              "      <th>19</th>\n",
              "      <td>PUEBLA</td>\n",
              "      <td>1</td>\n",
              "      <td>PUEBLA</td>\n",
              "      <td>2</td>\n",
              "      <td>2</td>\n",
              "      <td>27</td>\n",
              "      <td>2</td>\n",
              "      <td>2</td>\n",
              "      <td>2</td>\n",
              "      <td>2</td>\n",
              "      <td>...</td>\n",
              "      <td>2</td>\n",
              "      <td>2</td>\n",
              "      <td>2</td>\n",
              "      <td>2</td>\n",
              "      <td>2</td>\n",
              "      <td>2</td>\n",
              "      <td>1</td>\n",
              "      <td>1</td>\n",
              "      <td>MÃ©xico</td>\n",
              "      <td>2</td>\n",
              "    </tr>\n",
              "    <tr>\n",
              "      <th>29</th>\n",
              "      <td>MÉXICO</td>\n",
              "      <td>1</td>\n",
              "      <td>MÉXICO</td>\n",
              "      <td>2</td>\n",
              "      <td>1</td>\n",
              "      <td>75</td>\n",
              "      <td>2</td>\n",
              "      <td>1</td>\n",
              "      <td>2</td>\n",
              "      <td>2</td>\n",
              "      <td>...</td>\n",
              "      <td>2</td>\n",
              "      <td>2</td>\n",
              "      <td>2</td>\n",
              "      <td>2</td>\n",
              "      <td>2</td>\n",
              "      <td>2</td>\n",
              "      <td>2</td>\n",
              "      <td>1</td>\n",
              "      <td>MÃ©xico</td>\n",
              "      <td>1</td>\n",
              "    </tr>\n",
              "    <tr>\n",
              "      <th>34</th>\n",
              "      <td>MÉXICO</td>\n",
              "      <td>2</td>\n",
              "      <td>MÉXICO</td>\n",
              "      <td>2</td>\n",
              "      <td>1</td>\n",
              "      <td>50</td>\n",
              "      <td>2</td>\n",
              "      <td>2</td>\n",
              "      <td>2</td>\n",
              "      <td>2</td>\n",
              "      <td>...</td>\n",
              "      <td>2</td>\n",
              "      <td>2</td>\n",
              "      <td>2</td>\n",
              "      <td>2</td>\n",
              "      <td>2</td>\n",
              "      <td>2</td>\n",
              "      <td>2</td>\n",
              "      <td>2</td>\n",
              "      <td>MÃ©xico</td>\n",
              "      <td>2</td>\n",
              "    </tr>\n",
              "    <tr>\n",
              "      <th>40</th>\n",
              "      <td>CIUDAD DE MÉXICO</td>\n",
              "      <td>2</td>\n",
              "      <td>CIUDAD DE MÉXICO</td>\n",
              "      <td>2</td>\n",
              "      <td>1</td>\n",
              "      <td>36</td>\n",
              "      <td>2</td>\n",
              "      <td>1</td>\n",
              "      <td>2</td>\n",
              "      <td>2</td>\n",
              "      <td>...</td>\n",
              "      <td>2</td>\n",
              "      <td>2</td>\n",
              "      <td>2</td>\n",
              "      <td>2</td>\n",
              "      <td>2</td>\n",
              "      <td>2</td>\n",
              "      <td>2</td>\n",
              "      <td>3</td>\n",
              "      <td>MÃ©xico</td>\n",
              "      <td>2</td>\n",
              "    </tr>\n",
              "  </tbody>\n",
              "</table>\n",
              "<p>5 rows × 21 columns</p>\n",
              "</div>\n",
              "      <button class=\"colab-df-convert\" onclick=\"convertToInteractive('df-c06b8afc-6b13-4b0d-af4f-fa4d08ae7252')\"\n",
              "              title=\"Convert this dataframe to an interactive table.\"\n",
              "              style=\"display:none;\">\n",
              "        \n",
              "  <svg xmlns=\"http://www.w3.org/2000/svg\" height=\"24px\"viewBox=\"0 0 24 24\"\n",
              "       width=\"24px\">\n",
              "    <path d=\"M0 0h24v24H0V0z\" fill=\"none\"/>\n",
              "    <path d=\"M18.56 5.44l.94 2.06.94-2.06 2.06-.94-2.06-.94-.94-2.06-.94 2.06-2.06.94zm-11 1L8.5 8.5l.94-2.06 2.06-.94-2.06-.94L8.5 2.5l-.94 2.06-2.06.94zm10 10l.94 2.06.94-2.06 2.06-.94-2.06-.94-.94-2.06-.94 2.06-2.06.94z\"/><path d=\"M17.41 7.96l-1.37-1.37c-.4-.4-.92-.59-1.43-.59-.52 0-1.04.2-1.43.59L10.3 9.45l-7.72 7.72c-.78.78-.78 2.05 0 2.83L4 21.41c.39.39.9.59 1.41.59.51 0 1.02-.2 1.41-.59l7.78-7.78 2.81-2.81c.8-.78.8-2.07 0-2.86zM5.41 20L4 18.59l7.72-7.72 1.47 1.35L5.41 20z\"/>\n",
              "  </svg>\n",
              "      </button>\n",
              "      \n",
              "  <style>\n",
              "    .colab-df-container {\n",
              "      display:flex;\n",
              "      flex-wrap:wrap;\n",
              "      gap: 12px;\n",
              "    }\n",
              "\n",
              "    .colab-df-convert {\n",
              "      background-color: #E8F0FE;\n",
              "      border: none;\n",
              "      border-radius: 50%;\n",
              "      cursor: pointer;\n",
              "      display: none;\n",
              "      fill: #1967D2;\n",
              "      height: 32px;\n",
              "      padding: 0 0 0 0;\n",
              "      width: 32px;\n",
              "    }\n",
              "\n",
              "    .colab-df-convert:hover {\n",
              "      background-color: #E2EBFA;\n",
              "      box-shadow: 0px 1px 2px rgba(60, 64, 67, 0.3), 0px 1px 3px 1px rgba(60, 64, 67, 0.15);\n",
              "      fill: #174EA6;\n",
              "    }\n",
              "\n",
              "    [theme=dark] .colab-df-convert {\n",
              "      background-color: #3B4455;\n",
              "      fill: #D2E3FC;\n",
              "    }\n",
              "\n",
              "    [theme=dark] .colab-df-convert:hover {\n",
              "      background-color: #434B5C;\n",
              "      box-shadow: 0px 1px 3px 1px rgba(0, 0, 0, 0.15);\n",
              "      filter: drop-shadow(0px 1px 2px rgba(0, 0, 0, 0.3));\n",
              "      fill: #FFFFFF;\n",
              "    }\n",
              "  </style>\n",
              "\n",
              "      <script>\n",
              "        const buttonEl =\n",
              "          document.querySelector('#df-c06b8afc-6b13-4b0d-af4f-fa4d08ae7252 button.colab-df-convert');\n",
              "        buttonEl.style.display =\n",
              "          google.colab.kernel.accessAllowed ? 'block' : 'none';\n",
              "\n",
              "        async function convertToInteractive(key) {\n",
              "          const element = document.querySelector('#df-c06b8afc-6b13-4b0d-af4f-fa4d08ae7252');\n",
              "          const dataTable =\n",
              "            await google.colab.kernel.invokeFunction('convertToInteractive',\n",
              "                                                     [key], {});\n",
              "          if (!dataTable) return;\n",
              "\n",
              "          const docLinkHtml = 'Like what you see? Visit the ' +\n",
              "            '<a target=\"_blank\" href=https://colab.research.google.com/notebooks/data_table.ipynb>data table notebook</a>'\n",
              "            + ' to learn more about interactive tables.';\n",
              "          element.innerHTML = '';\n",
              "          dataTable['output_type'] = 'display_data';\n",
              "          await google.colab.output.renderOutput(dataTable, element);\n",
              "          const docLink = document.createElement('div');\n",
              "          docLink.innerHTML = docLinkHtml;\n",
              "          element.appendChild(docLink);\n",
              "        }\n",
              "      </script>\n",
              "    </div>\n",
              "  </div>\n",
              "  "
            ]
          },
          "metadata": {},
          "execution_count": 15
        }
      ]
    },
    {
      "cell_type": "markdown",
      "source": [
        "#### Lets look at the covid result column"
      ],
      "metadata": {
        "id": "ZPvkWSs_ZaK3"
      }
    },
    {
      "cell_type": "code",
      "source": [
        " print((df2['RESULT'].value_counts()).astype(str) + \" \" + (round(df2['RESULT'].value_counts()/df2['RESULT'].count()*100,2 )).astype(str) )"
      ],
      "metadata": {
        "colab": {
          "base_uri": "https://localhost:8080/"
        },
        "id": "fZGnR1maZba2",
        "outputId": "6ea2a690-54d3-482c-c072-1b376661d734"
      },
      "execution_count": null,
      "outputs": [
        {
          "output_type": "stream",
          "name": "stdout",
          "text": [
            "2    4857 43.87\n",
            "1     4086 36.9\n",
            "3    2129 19.23\n",
            "Name: RESULT, dtype: object\n"
          ]
        }
      ]
    },
    {
      "cell_type": "markdown",
      "source": [
        "2 is negative and 1 is positive and 3 is result pending. We will be dropping the those values which are pending results and convert 2 to 0"
      ],
      "metadata": {
        "id": "wd9D-Z0-ZhFl"
      }
    },
    {
      "cell_type": "code",
      "source": [
        "df2 = df2[df2.RESULT != 3]\n",
        "df2['RESULT'] = df2['RESULT'].replace(2,0)\n",
        "df2.head(3)"
      ],
      "metadata": {
        "colab": {
          "base_uri": "https://localhost:8080/"
        },
        "id": "8sW1cZlhZhta",
        "outputId": "6d147f51-68df-4f51-abc4-f874248bdde3"
      },
      "execution_count": null,
      "outputs": [
        {
          "output_type": "execute_result",
          "data": {
            "text/plain": [
              "              ENTITY UM  SEX           ENTITY RES  PATIENT TYPE  PNEUMONIA  \\\n",
              "5   MICHOACÁN DE OCAMPO    1  MICHOACÁN DE OCAMPO             2          2   \n",
              "19               PUEBLA    1               PUEBLA             2          2   \n",
              "29               MÉXICO    1               MÉXICO             2          1   \n",
              "\n",
              "    AGE  INDIGENOUS_LANG  DIABETES  COPD  ASTHMA  ...  HYPERTENSION  OTHERCOM  \\\n",
              "5    32                2         2     2       2  ...             2         2   \n",
              "19   27                2         2     2       2  ...             2         2   \n",
              "29   75                2         1     2       2  ...             2         2   \n",
              "\n",
              "    CARDIOVASCULAR  OBESITY  CHRONIC_KIDNEY  SMOKING  OTHERCASE  RESULT  \\\n",
              "5                2        2               2        2          2       0   \n",
              "19               2        2               2        2          1       1   \n",
              "29               2        2               2        2          2       1   \n",
              "\n",
              "    COUNTRY_NATIONALITY ICU  \n",
              "5               MÃ©xico   2  \n",
              "19              MÃ©xico   2  \n",
              "29              MÃ©xico   1  \n",
              "\n",
              "[3 rows x 21 columns]"
            ],
            "text/html": [
              "\n",
              "  <div id=\"df-8a1c2dbf-8a1e-46ca-b76e-d6592c799830\">\n",
              "    <div class=\"colab-df-container\">\n",
              "      <div>\n",
              "<style scoped>\n",
              "    .dataframe tbody tr th:only-of-type {\n",
              "        vertical-align: middle;\n",
              "    }\n",
              "\n",
              "    .dataframe tbody tr th {\n",
              "        vertical-align: top;\n",
              "    }\n",
              "\n",
              "    .dataframe thead th {\n",
              "        text-align: right;\n",
              "    }\n",
              "</style>\n",
              "<table border=\"1\" class=\"dataframe\">\n",
              "  <thead>\n",
              "    <tr style=\"text-align: right;\">\n",
              "      <th></th>\n",
              "      <th>ENTITY UM</th>\n",
              "      <th>SEX</th>\n",
              "      <th>ENTITY RES</th>\n",
              "      <th>PATIENT TYPE</th>\n",
              "      <th>PNEUMONIA</th>\n",
              "      <th>AGE</th>\n",
              "      <th>INDIGENOUS_LANG</th>\n",
              "      <th>DIABETES</th>\n",
              "      <th>COPD</th>\n",
              "      <th>ASTHMA</th>\n",
              "      <th>...</th>\n",
              "      <th>HYPERTENSION</th>\n",
              "      <th>OTHERCOM</th>\n",
              "      <th>CARDIOVASCULAR</th>\n",
              "      <th>OBESITY</th>\n",
              "      <th>CHRONIC_KIDNEY</th>\n",
              "      <th>SMOKING</th>\n",
              "      <th>OTHERCASE</th>\n",
              "      <th>RESULT</th>\n",
              "      <th>COUNTRY_NATIONALITY</th>\n",
              "      <th>ICU</th>\n",
              "    </tr>\n",
              "  </thead>\n",
              "  <tbody>\n",
              "    <tr>\n",
              "      <th>5</th>\n",
              "      <td>MICHOACÁN DE OCAMPO</td>\n",
              "      <td>1</td>\n",
              "      <td>MICHOACÁN DE OCAMPO</td>\n",
              "      <td>2</td>\n",
              "      <td>2</td>\n",
              "      <td>32</td>\n",
              "      <td>2</td>\n",
              "      <td>2</td>\n",
              "      <td>2</td>\n",
              "      <td>2</td>\n",
              "      <td>...</td>\n",
              "      <td>2</td>\n",
              "      <td>2</td>\n",
              "      <td>2</td>\n",
              "      <td>2</td>\n",
              "      <td>2</td>\n",
              "      <td>2</td>\n",
              "      <td>2</td>\n",
              "      <td>0</td>\n",
              "      <td>MÃ©xico</td>\n",
              "      <td>2</td>\n",
              "    </tr>\n",
              "    <tr>\n",
              "      <th>19</th>\n",
              "      <td>PUEBLA</td>\n",
              "      <td>1</td>\n",
              "      <td>PUEBLA</td>\n",
              "      <td>2</td>\n",
              "      <td>2</td>\n",
              "      <td>27</td>\n",
              "      <td>2</td>\n",
              "      <td>2</td>\n",
              "      <td>2</td>\n",
              "      <td>2</td>\n",
              "      <td>...</td>\n",
              "      <td>2</td>\n",
              "      <td>2</td>\n",
              "      <td>2</td>\n",
              "      <td>2</td>\n",
              "      <td>2</td>\n",
              "      <td>2</td>\n",
              "      <td>1</td>\n",
              "      <td>1</td>\n",
              "      <td>MÃ©xico</td>\n",
              "      <td>2</td>\n",
              "    </tr>\n",
              "    <tr>\n",
              "      <th>29</th>\n",
              "      <td>MÉXICO</td>\n",
              "      <td>1</td>\n",
              "      <td>MÉXICO</td>\n",
              "      <td>2</td>\n",
              "      <td>1</td>\n",
              "      <td>75</td>\n",
              "      <td>2</td>\n",
              "      <td>1</td>\n",
              "      <td>2</td>\n",
              "      <td>2</td>\n",
              "      <td>...</td>\n",
              "      <td>2</td>\n",
              "      <td>2</td>\n",
              "      <td>2</td>\n",
              "      <td>2</td>\n",
              "      <td>2</td>\n",
              "      <td>2</td>\n",
              "      <td>2</td>\n",
              "      <td>1</td>\n",
              "      <td>MÃ©xico</td>\n",
              "      <td>1</td>\n",
              "    </tr>\n",
              "  </tbody>\n",
              "</table>\n",
              "<p>3 rows × 21 columns</p>\n",
              "</div>\n",
              "      <button class=\"colab-df-convert\" onclick=\"convertToInteractive('df-8a1c2dbf-8a1e-46ca-b76e-d6592c799830')\"\n",
              "              title=\"Convert this dataframe to an interactive table.\"\n",
              "              style=\"display:none;\">\n",
              "        \n",
              "  <svg xmlns=\"http://www.w3.org/2000/svg\" height=\"24px\"viewBox=\"0 0 24 24\"\n",
              "       width=\"24px\">\n",
              "    <path d=\"M0 0h24v24H0V0z\" fill=\"none\"/>\n",
              "    <path d=\"M18.56 5.44l.94 2.06.94-2.06 2.06-.94-2.06-.94-.94-2.06-.94 2.06-2.06.94zm-11 1L8.5 8.5l.94-2.06 2.06-.94-2.06-.94L8.5 2.5l-.94 2.06-2.06.94zm10 10l.94 2.06.94-2.06 2.06-.94-2.06-.94-.94-2.06-.94 2.06-2.06.94z\"/><path d=\"M17.41 7.96l-1.37-1.37c-.4-.4-.92-.59-1.43-.59-.52 0-1.04.2-1.43.59L10.3 9.45l-7.72 7.72c-.78.78-.78 2.05 0 2.83L4 21.41c.39.39.9.59 1.41.59.51 0 1.02-.2 1.41-.59l7.78-7.78 2.81-2.81c.8-.78.8-2.07 0-2.86zM5.41 20L4 18.59l7.72-7.72 1.47 1.35L5.41 20z\"/>\n",
              "  </svg>\n",
              "      </button>\n",
              "      \n",
              "  <style>\n",
              "    .colab-df-container {\n",
              "      display:flex;\n",
              "      flex-wrap:wrap;\n",
              "      gap: 12px;\n",
              "    }\n",
              "\n",
              "    .colab-df-convert {\n",
              "      background-color: #E8F0FE;\n",
              "      border: none;\n",
              "      border-radius: 50%;\n",
              "      cursor: pointer;\n",
              "      display: none;\n",
              "      fill: #1967D2;\n",
              "      height: 32px;\n",
              "      padding: 0 0 0 0;\n",
              "      width: 32px;\n",
              "    }\n",
              "\n",
              "    .colab-df-convert:hover {\n",
              "      background-color: #E2EBFA;\n",
              "      box-shadow: 0px 1px 2px rgba(60, 64, 67, 0.3), 0px 1px 3px 1px rgba(60, 64, 67, 0.15);\n",
              "      fill: #174EA6;\n",
              "    }\n",
              "\n",
              "    [theme=dark] .colab-df-convert {\n",
              "      background-color: #3B4455;\n",
              "      fill: #D2E3FC;\n",
              "    }\n",
              "\n",
              "    [theme=dark] .colab-df-convert:hover {\n",
              "      background-color: #434B5C;\n",
              "      box-shadow: 0px 1px 3px 1px rgba(0, 0, 0, 0.15);\n",
              "      filter: drop-shadow(0px 1px 2px rgba(0, 0, 0, 0.3));\n",
              "      fill: #FFFFFF;\n",
              "    }\n",
              "  </style>\n",
              "\n",
              "      <script>\n",
              "        const buttonEl =\n",
              "          document.querySelector('#df-8a1c2dbf-8a1e-46ca-b76e-d6592c799830 button.colab-df-convert');\n",
              "        buttonEl.style.display =\n",
              "          google.colab.kernel.accessAllowed ? 'block' : 'none';\n",
              "\n",
              "        async function convertToInteractive(key) {\n",
              "          const element = document.querySelector('#df-8a1c2dbf-8a1e-46ca-b76e-d6592c799830');\n",
              "          const dataTable =\n",
              "            await google.colab.kernel.invokeFunction('convertToInteractive',\n",
              "                                                     [key], {});\n",
              "          if (!dataTable) return;\n",
              "\n",
              "          const docLinkHtml = 'Like what you see? Visit the ' +\n",
              "            '<a target=\"_blank\" href=https://colab.research.google.com/notebooks/data_table.ipynb>data table notebook</a>'\n",
              "            + ' to learn more about interactive tables.';\n",
              "          element.innerHTML = '';\n",
              "          dataTable['output_type'] = 'display_data';\n",
              "          await google.colab.output.renderOutput(dataTable, element);\n",
              "          const docLink = document.createElement('div');\n",
              "          docLink.innerHTML = docLinkHtml;\n",
              "          element.appendChild(docLink);\n",
              "        }\n",
              "      </script>\n",
              "    </div>\n",
              "  </div>\n",
              "  "
            ]
          },
          "metadata": {},
          "execution_count": 17
        }
      ]
    },
    {
      "cell_type": "markdown",
      "source": [
        "#### PATIENT TYPE  current values (1 for OUTPATIENT and 2 for HOSPITALIZED) after cleaning the data only patient who are hospitalized remaining"
      ],
      "metadata": {
        "id": "EsQt9tgMZppw"
      }
    },
    {
      "cell_type": "code",
      "source": [
        " print((df2['PATIENT TYPE'].value_counts()).astype(str) + \" \" + (round(df2['PATIENT TYPE'].value_counts()/df2['PATIENT TYPE'].count()*100,2 )).astype(str) )"
      ],
      "metadata": {
        "colab": {
          "base_uri": "https://localhost:8080/"
        },
        "id": "n7DaF0ASZquf",
        "outputId": "a2710873-67cc-4417-ee5f-9b3f3295c7b5"
      },
      "execution_count": null,
      "outputs": [
        {
          "output_type": "stream",
          "name": "stdout",
          "text": [
            "2    8943 100.0\n",
            "Name: PATIENT TYPE, dtype: object\n"
          ]
        }
      ]
    },
    {
      "cell_type": "markdown",
      "source": [
        "## Analysis of correlation"
      ],
      "metadata": {
        "id": "Fr_6qZQ3vxWL"
      }
    },
    {
      "cell_type": "markdown",
      "source": [
        "analysis of Age of the patients who showed symtoms"
      ],
      "metadata": {
        "id": "WPvOCV51wC1R"
      }
    },
    {
      "cell_type": "code",
      "source": [
        "plt.figure(figsize=(20,6))\n",
        "plt.subplot(1, 2, 1)\n",
        "#sns.barplot(data=df, x='index', y= 'sex', color='lightblue');\n",
        "sns.distplot(df2.AGE, color=\"dodgerblue\")\n",
        "plt.title('Distribution of All Patients Age')\n",
        "plt.xlabel('Age')\n",
        "\n",
        "plt.subplot(1, 2, 2)\n",
        "sns.boxplot(df2.AGE,color='blue')\n",
        "plt.title('Box Plot for Age')\n",
        "plt.xlabel('Age')"
      ],
      "metadata": {
        "id": "9ymyWzz9wAPi",
        "outputId": "c9dfff42-f18e-40f9-95ab-33258019e4b9",
        "colab": {
          "base_uri": "https://localhost:8080/",
          "height": 354
        }
      },
      "execution_count": null,
      "outputs": [
        {
          "output_type": "execute_result",
          "data": {
            "text/plain": [
              "Text(0.5, 0, 'Age')"
            ]
          },
          "metadata": {},
          "execution_count": 19
        },
        {
          "output_type": "display_data",
          "data": {
            "text/plain": [
              "<Figure size 1440x432 with 2 Axes>"
            ],
            "image/png": "[encoded data removed]"
          },
          "metadata": {
            "needs_background": "light"
          }
        }
      ]
    },
    {
      "cell_type": "markdown",
      "source": [
        "correlation of age and test results"
      ],
      "metadata": {
        "id": "dnUbtGEowLBf"
      }
    },
    {
      "cell_type": "code",
      "source": [
        "plt.figure(figsize=(20,6))\n",
        "plt.subplot(1, 4, 1)\n",
        "plot = sns.distplot(df2[df2.RESULT == 1].AGE)\n",
        "plot.set(ylabel = None, yticklabels = [])\n",
        "plot.tick_params(left=False)\n",
        "plt.title(' Distribution of Age for Positive Patients')\n",
        "plt.xlabel('Age')\n",
        "\n",
        "plt.subplot(1, 4, 2)\n",
        "plot = sns.distplot(df2[df2.RESULT == 0].AGE)\n",
        "plot.set(ylabel = None, yticklabels = [])\n",
        "plt.title('distribution of Age for Negative Patients')\n",
        "plt.xlabel('Age')\n",
        "\n",
        "plt.subplot(1, 4, 3)\n",
        "plot = sns.boxplot(df2[df2.RESULT == 1].AGE)\n",
        "plot.set(ylabel = None, yticklabels = [])\n",
        "plot.tick_params(left=False)\n",
        "plt.title(' Box plot Age for Positive Patients')\n",
        "plt.xlabel('Age')\n",
        "\n",
        "plt.subplot(1, 4, 4)\n",
        "plot = sns.boxplot(df2[df2.RESULT == 0].AGE)\n",
        "plot.set(ylabel = None, yticklabels = [])\n",
        "plt.title('Box Plot for Age for Negative Patients')\n",
        "plt.xlabel('Age')"
      ],
      "metadata": {
        "id": "tzw_KquiwLo7",
        "outputId": "2e44ec88-fdb3-437c-840b-c072a317f2a6",
        "colab": {
          "base_uri": "https://localhost:8080/",
          "height": 368
        }
      },
      "execution_count": null,
      "outputs": [
        {
          "output_type": "execute_result",
          "data": {
            "text/plain": [
              "Text(0.5, 0, 'Age')"
            ]
          },
          "metadata": {},
          "execution_count": 20
        },
        {
          "output_type": "display_data",
          "data": {
            "text/plain": [
              "<Figure size 1440x432 with 4 Axes>"
            ],
            "image/png": "[encoded data removed]"
          },
          "metadata": {
            "needs_background": "light"
          }
        }
      ]
    },
    {
      "cell_type": "markdown",
      "source": [
        "correlation of results with respect to the state where patient stayed and with respect to the parents location"
      ],
      "metadata": {
        "id": "T1eWsABDwR-U"
      }
    },
    {
      "cell_type": "code",
      "source": [
        "pd.crosstab(df2['ENTITY UM'],df2.RESULT).sort_values(0,ascending=False).head(10).plot.bar(stacked=True,figsize=(15,4))\n",
        "plt.xlabel('Mexican states',fontsize=14)\n",
        "plt.ylabel('Number of Patients',fontsize=14)\n",
        "plt.title('Top 10 Positive and Negative cases count with respect to States where patient was treated')\n",
        "plt.legend(['Negative','Positive'])\n",
        "\n",
        "pd.crosstab(df2['ENTITY RES'],df2.RESULT).sort_values(0,ascending=False).head(10).plot.bar(stacked=True,figsize=(15,4))\n",
        "plt.xlabel('Mexican states',fontsize=14)\n",
        "plt.ylabel('Number of Patients',fontsize=14)\n",
        "plt.title('Top 10 Positive and Negative cases count with respect to States where patient is located')\n",
        "plt.legend(['Negative','Positive'])"
      ],
      "metadata": {
        "id": "b6JZmncdwUTH",
        "outputId": "bb3f59a2-2068-4580-96fa-e84a46f08acc",
        "colab": {
          "base_uri": "https://localhost:8080/",
          "height": 946
        }
      },
      "execution_count": null,
      "outputs": [
        {
          "output_type": "execute_result",
          "data": {
            "text/plain": [
              "<matplotlib.legend.Legend at 0x7f8d418e0d10>"
            ]
          },
          "metadata": {},
          "execution_count": 21
        },
        {
          "output_type": "display_data",
          "data": {
            "text/plain": [
              "<Figure size 1080x288 with 1 Axes>"
            ],
            "image/png": "[encoded data removed]"
          },
          "metadata": {
            "needs_background": "light"
          }
        },
        {
          "output_type": "display_data",
          "data": {
            "text/plain": [
              "<Figure size 1080x288 with 1 Axes>"
            ],
            "image/png": "[encoded data removed]"
          },
          "metadata": {
            "needs_background": "light"
          }
        }
      ]
    },
    {
      "cell_type": "markdown",
      "source": [
        "correlation of result with respect to gender"
      ],
      "metadata": {
        "id": "OomuWjh0wlp1"
      }
    },
    {
      "cell_type": "code",
      "source": [
        "sns.countplot(x=\"RESULT\",hue=\"SEX\",data=df2)\n",
        "plt.legend(['Female', 'Male'], loc='upper right', ncol = 2)\n",
        "plt.title('Positivity rate between male and female')\n",
        "plt.xlabel('Positive/Negative')\n",
        "plt.ylabel('Count of Patients')\n",
        "plt.show()"
      ],
      "metadata": {
        "id": "AzhurNFZwlX5",
        "colab": {
          "base_uri": "https://localhost:8080/",
          "height": 295
        },
        "outputId": "b0e430a9-5ce4-4769-a73b-36bbcf9b8529"
      },
      "execution_count": null,
      "outputs": [
        {
          "output_type": "display_data",
          "data": {
            "text/plain": [
              "<Figure size 432x288 with 1 Axes>"
            ],
            "image/png": "[encoded data removed]"
          },
          "metadata": {
            "needs_background": "light"
          }
        }
      ]
    },
    {
      "cell_type": "markdown",
      "source": [
        "correlation of result with respect to gender and age"
      ],
      "metadata": {
        "id": "_6d2hRjHwtR_"
      }
    },
    {
      "cell_type": "code",
      "source": [
        "fig, ax = plt.subplots(figsize=(20,15))\n",
        "sns.boxplot(x = df2.RESULT, y = df2.AGE, hue = df2.SEX.replace({1:'Female', 2:'Male'}))\n",
        "plt.xlabel('Result')\n",
        "plt.ylabel('Age')\n",
        "plt.title('Boxplot Age by Result and Sex')\n",
        "ax.set(xticklabels=['Positives', 'Negatives'] )\n",
        "plt.show()"
      ],
      "metadata": {
        "id": "orCJjBl0wswe",
        "colab": {
          "base_uri": "https://localhost:8080/",
          "height": 747
        },
        "outputId": "c436be88-cad8-41fa-99ce-a3c4ab08b965"
      },
      "execution_count": null,
      "outputs": [
        {
          "output_type": "display_data",
          "data": {
            "text/plain": [
              "<Figure size 1440x1080 with 1 Axes>"
            ],
            "image/png": "[encoded data removed]"
          },
          "metadata": {
            "needs_background": "light"
          }
        }
      ]
    },
    {
      "cell_type": "markdown",
      "source": [
        "analysis of illness (previous medical history) in positive patients."
      ],
      "metadata": {
        "id": "Y0TEAEfhw2oh"
      }
    },
    {
      "cell_type": "code",
      "source": [
        "illness = ['PNEUMONIA','DIABETES','ASTHMA','COPD','INMUSUPR','HYPERTENSION','CARDIOVASCULAR','OBESITY',\n",
        "     'SMOKING','CHRONIC_KIDNEY','OTHERCOM','OTHERCASE']\n",
        "dictionary = dict()\n",
        "for name in illness:\n",
        "    dictionary[name] = df2[df2.RESULT == 1].query(f'{name} == 1').shape[0]\n",
        "\n",
        "dictionary = dict(sorted(dictionary.items(), key = lambda item: item[1], reverse=True))\n",
        "plt.figure(figsize=(10, 10))\n",
        "plt.pie(dictionary.values(), labels = dictionary.keys(), explode = [0.1 for i in range(len(dictionary.values()))],\n",
        "          autopct='%.1f%%', shadow = True, labeldistance = 1.07, startangle = 45)\n",
        "\n",
        "fig = plt.gcf()\n",
        "plt.title(\"Percentage of Illness for positive cases\")\n",
        "plt.axis('equal')\n",
        "plt.tight_layout()\n",
        "plt.show()"
      ],
      "metadata": {
        "id": "-V2Ef_HJw2Uk",
        "colab": {
          "base_uri": "https://localhost:8080/",
          "height": 729
        },
        "outputId": "d536099c-2336-4c88-fef9-6181264174a7"
      },
      "execution_count": null,
      "outputs": [
        {
          "output_type": "display_data",
          "data": {
            "text/plain": [
              "<Figure size 720x720 with 1 Axes>"
            ],
            "image/png": "[encoded data removed]"
          },
          "metadata": {}
        }
      ]
    },
    {
      "cell_type": "code",
      "source": [
        "corrMatrix = df2.corr()\n",
        "plt.figure(figsize=(20,20))\n",
        "sns.heatmap(corrMatrix, annot=True)\n",
        "plt.show()\n"
      ],
      "metadata": {
        "id": "VCziUtVGxAG5",
        "colab": {
          "base_uri": "https://localhost:8080/",
          "height": 1000
        },
        "outputId": "1f97703e-d3f3-469f-a206-c54523e10ef5"
      },
      "execution_count": null,
      "outputs": [
        {
          "output_type": "display_data",
          "data": {
            "text/plain": [
              "<Figure size 1440x1440 with 2 Axes>"
            ],
            "image/png": "[encoded data removed]"
          },
          "metadata": {
            "needs_background": "light"
          }
        }
      ]
    },
    {
      "cell_type": "markdown",
      "source": [
        "After analysis we would drop few columns that might not be required for modelling and analysis."
      ],
      "metadata": {
        "id": "Lw8mJNKNySTX"
      }
    },
    {
      "cell_type": "code",
      "source": [
        "df2.columns"
      ],
      "metadata": {
        "colab": {
          "base_uri": "https://localhost:8080/"
        },
        "id": "UUv3-Ry4ydAA",
        "outputId": "79fd28b6-76cf-4ec5-bf27-e338d1d99364"
      },
      "execution_count": null,
      "outputs": [
        {
          "output_type": "execute_result",
          "data": {
            "text/plain": [
              "Index(['ENTITY UM', 'SEX', 'ENTITY RES', 'PATIENT TYPE', 'PNEUMONIA', 'AGE',\n",
              "       'INDIGENOUS_LANG', 'DIABETES', 'COPD', 'ASTHMA', 'INMUSUPR',\n",
              "       'HYPERTENSION', 'OTHERCOM', 'CARDIOVASCULAR', 'OBESITY',\n",
              "       'CHRONIC_KIDNEY', 'SMOKING', 'OTHERCASE', 'RESULT',\n",
              "       'COUNTRY_NATIONALITY', 'ICU'],\n",
              "      dtype='object')"
            ]
          },
          "metadata": {},
          "execution_count": 26
        }
      ]
    },
    {
      "cell_type": "code",
      "source": [
        "df_model = df2[df2.columns[~df.columns.isin(\n",
        "    ['ENTITY UM', 'ENTITY RES','PATIENT TYPE','COUNTRY_NATIONALITY','ICU'])]]\n",
        "df_model.head(3)"
      ],
      "metadata": {
        "colab": {
          "base_uri": "https://localhost:8080/",
          "height": 208
        },
        "id": "KTfOcwOdygvt",
        "outputId": "22ffc4f0-a989-4b04-df36-6510052408e6"
      },
      "execution_count": null,
      "outputs": [
        {
          "output_type": "execute_result",
          "data": {
            "text/plain": [
              "    SEX  PNEUMONIA  AGE  INDIGENOUS_LANG  DIABETES  COPD  ASTHMA  INMUSUPR  \\\n",
              "5     1          2   32                2         2     2       2         2   \n",
              "19    1          2   27                2         2     2       2         2   \n",
              "29    1          1   75                2         1     2       2         2   \n",
              "\n",
              "    HYPERTENSION  OTHERCOM  CARDIOVASCULAR  OBESITY  CHRONIC_KIDNEY  SMOKING  \\\n",
              "5              2         2               2        2               2        2   \n",
              "19             2         2               2        2               2        2   \n",
              "29             2         2               2        2               2        2   \n",
              "\n",
              "    OTHERCASE  RESULT  \n",
              "5           2       0  \n",
              "19          1       1  \n",
              "29          2       1  "
            ],
            "text/html": [
              "\n",
              "  <div id=\"df-3c30869d-e108-4564-a746-f8775d4634d1\">\n",
              "    <div class=\"colab-df-container\">\n",
              "      <div>\n",
              "<style scoped>\n",
              "    .dataframe tbody tr th:only-of-type {\n",
              "        vertical-align: middle;\n",
              "    }\n",
              "\n",
              "    .dataframe tbody tr th {\n",
              "        vertical-align: top;\n",
              "    }\n",
              "\n",
              "    .dataframe thead th {\n",
              "        text-align: right;\n",
              "    }\n",
              "</style>\n",
              "<table border=\"1\" class=\"dataframe\">\n",
              "  <thead>\n",
              "    <tr style=\"text-align: right;\">\n",
              "      <th></th>\n",
              "      <th>SEX</th>\n",
              "      <th>PNEUMONIA</th>\n",
              "      <th>AGE</th>\n",
              "      <th>INDIGENOUS_LANG</th>\n",
              "      <th>DIABETES</th>\n",
              "      <th>COPD</th>\n",
              "      <th>ASTHMA</th>\n",
              "      <th>INMUSUPR</th>\n",
              "      <th>HYPERTENSION</th>\n",
              "      <th>OTHERCOM</th>\n",
              "      <th>CARDIOVASCULAR</th>\n",
              "      <th>OBESITY</th>\n",
              "      <th>CHRONIC_KIDNEY</th>\n",
              "      <th>SMOKING</th>\n",
              "      <th>OTHERCASE</th>\n",
              "      <th>RESULT</th>\n",
              "    </tr>\n",
              "  </thead>\n",
              "  <tbody>\n",
              "    <tr>\n",
              "      <th>5</th>\n",
              "      <td>1</td>\n",
              "      <td>2</td>\n",
              "      <td>32</td>\n",
              "      <td>2</td>\n",
              "      <td>2</td>\n",
              "      <td>2</td>\n",
              "      <td>2</td>\n",
              "      <td>2</td>\n",
              "      <td>2</td>\n",
              "      <td>2</td>\n",
              "      <td>2</td>\n",
              "      <td>2</td>\n",
              "      <td>2</td>\n",
              "      <td>2</td>\n",
              "      <td>2</td>\n",
              "      <td>0</td>\n",
              "    </tr>\n",
              "    <tr>\n",
              "      <th>19</th>\n",
              "      <td>1</td>\n",
              "      <td>2</td>\n",
              "      <td>27</td>\n",
              "      <td>2</td>\n",
              "      <td>2</td>\n",
              "      <td>2</td>\n",
              "      <td>2</td>\n",
              "      <td>2</td>\n",
              "      <td>2</td>\n",
              "      <td>2</td>\n",
              "      <td>2</td>\n",
              "      <td>2</td>\n",
              "      <td>2</td>\n",
              "      <td>2</td>\n",
              "      <td>1</td>\n",
              "      <td>1</td>\n",
              "    </tr>\n",
              "    <tr>\n",
              "      <th>29</th>\n",
              "      <td>1</td>\n",
              "      <td>1</td>\n",
              "      <td>75</td>\n",
              "      <td>2</td>\n",
              "      <td>1</td>\n",
              "      <td>2</td>\n",
              "      <td>2</td>\n",
              "      <td>2</td>\n",
              "      <td>2</td>\n",
              "      <td>2</td>\n",
              "      <td>2</td>\n",
              "      <td>2</td>\n",
              "      <td>2</td>\n",
              "      <td>2</td>\n",
              "      <td>2</td>\n",
              "      <td>1</td>\n",
              "    </tr>\n",
              "  </tbody>\n",
              "</table>\n",
              "</div>\n",
              "      <button class=\"colab-df-convert\" onclick=\"convertToInteractive('df-3c30869d-e108-4564-a746-f8775d4634d1')\"\n",
              "              title=\"Convert this dataframe to an interactive table.\"\n",
              "              style=\"display:none;\">\n",
              "        \n",
              "  <svg xmlns=\"http://www.w3.org/2000/svg\" height=\"24px\"viewBox=\"0 0 24 24\"\n",
              "       width=\"24px\">\n",
              "    <path d=\"M0 0h24v24H0V0z\" fill=\"none\"/>\n",
              "    <path d=\"M18.56 5.44l.94 2.06.94-2.06 2.06-.94-2.06-.94-.94-2.06-.94 2.06-2.06.94zm-11 1L8.5 8.5l.94-2.06 2.06-.94-2.06-.94L8.5 2.5l-.94 2.06-2.06.94zm10 10l.94 2.06.94-2.06 2.06-.94-2.06-.94-.94-2.06-.94 2.06-2.06.94z\"/><path d=\"M17.41 7.96l-1.37-1.37c-.4-.4-.92-.59-1.43-.59-.52 0-1.04.2-1.43.59L10.3 9.45l-7.72 7.72c-.78.78-.78 2.05 0 2.83L4 21.41c.39.39.9.59 1.41.59.51 0 1.02-.2 1.41-.59l7.78-7.78 2.81-2.81c.8-.78.8-2.07 0-2.86zM5.41 20L4 18.59l7.72-7.72 1.47 1.35L5.41 20z\"/>\n",
              "  </svg>\n",
              "      </button>\n",
              "      \n",
              "  <style>\n",
              "    .colab-df-container {\n",
              "      display:flex;\n",
              "      flex-wrap:wrap;\n",
              "      gap: 12px;\n",
              "    }\n",
              "\n",
              "    .colab-df-convert {\n",
              "      background-color: #E8F0FE;\n",
              "      border: none;\n",
              "      border-radius: 50%;\n",
              "      cursor: pointer;\n",
              "      display: none;\n",
              "      fill: #1967D2;\n",
              "      height: 32px;\n",
              "      padding: 0 0 0 0;\n",
              "      width: 32px;\n",
              "    }\n",
              "\n",
              "    .colab-df-convert:hover {\n",
              "      background-color: #E2EBFA;\n",
              "      box-shadow: 0px 1px 2px rgba(60, 64, 67, 0.3), 0px 1px 3px 1px rgba(60, 64, 67, 0.15);\n",
              "      fill: #174EA6;\n",
              "    }\n",
              "\n",
              "    [theme=dark] .colab-df-convert {\n",
              "      background-color: #3B4455;\n",
              "      fill: #D2E3FC;\n",
              "    }\n",
              "\n",
              "    [theme=dark] .colab-df-convert:hover {\n",
              "      background-color: #434B5C;\n",
              "      box-shadow: 0px 1px 3px 1px rgba(0, 0, 0, 0.15);\n",
              "      filter: drop-shadow(0px 1px 2px rgba(0, 0, 0, 0.3));\n",
              "      fill: #FFFFFF;\n",
              "    }\n",
              "  </style>\n",
              "\n",
              "      <script>\n",
              "        const buttonEl =\n",
              "          document.querySelector('#df-3c30869d-e108-4564-a746-f8775d4634d1 button.colab-df-convert');\n",
              "        buttonEl.style.display =\n",
              "          google.colab.kernel.accessAllowed ? 'block' : 'none';\n",
              "\n",
              "        async function convertToInteractive(key) {\n",
              "          const element = document.querySelector('#df-3c30869d-e108-4564-a746-f8775d4634d1');\n",
              "          const dataTable =\n",
              "            await google.colab.kernel.invokeFunction('convertToInteractive',\n",
              "                                                     [key], {});\n",
              "          if (!dataTable) return;\n",
              "\n",
              "          const docLinkHtml = 'Like what you see? Visit the ' +\n",
              "            '<a target=\"_blank\" href=https://colab.research.google.com/notebooks/data_table.ipynb>data table notebook</a>'\n",
              "            + ' to learn more about interactive tables.';\n",
              "          element.innerHTML = '';\n",
              "          dataTable['output_type'] = 'display_data';\n",
              "          await google.colab.output.renderOutput(dataTable, element);\n",
              "          const docLink = document.createElement('div');\n",
              "          docLink.innerHTML = docLinkHtml;\n",
              "          element.appendChild(docLink);\n",
              "        }\n",
              "      </script>\n",
              "    </div>\n",
              "  </div>\n",
              "  "
            ]
          },
          "metadata": {},
          "execution_count": 27
        }
      ]
    },
    {
      "cell_type": "markdown",
      "source": [
        "## spliting dataset to train and test data"
      ],
      "metadata": {
        "id": "wJbN4rV_x_rH"
      }
    },
    {
      "cell_type": "code",
      "source": [
        "from sklearn.model_selection import train_test_split\n",
        "\n",
        "y=df_model.RESULT\n",
        "X=df_model.drop(['RESULT'], axis=1)\n",
        "X_train, X_test, y_train, y_test = train_test_split(X, y, test_size=0.40)\n",
        "\n",
        "print(f'Training examples: {X_train.shape[0]:,}')\n",
        "print(f'Test examples: {X_test.shape[0]:,}')"
      ],
      "metadata": {
        "colab": {
          "base_uri": "https://localhost:8080/"
        },
        "id": "p_M3s0reyDk6",
        "outputId": "a545a8aa-230c-42b7-d235-4e9b5633255b"
      },
      "execution_count": null,
      "outputs": [
        {
          "output_type": "stream",
          "name": "stdout",
          "text": [
            "Training examples: 5,365\n",
            "Test examples: 3,578\n"
          ]
        }
      ]
    },
    {
      "cell_type": "markdown",
      "metadata": {
        "id": "hVtD34EefnoR"
      },
      "source": [
        "## Logistic Regression"
      ]
    },
    {
      "cell_type": "code",
      "execution_count": null,
      "metadata": {
        "id": "97BosjxvfnoR"
      },
      "outputs": [],
      "source": [
        "from sklearn.pipeline import Pipeline\n",
        "from sklearn.preprocessing import StandardScaler\n",
        "from sklearn.linear_model import LogisticRegression\n",
        "from sklearn.model_selection import GridSearchCV\n",
        "from sklearn.decomposition import PCA\n",
        "from sklearn.metrics import plot_confusion_matrix\n",
        "from sklearn.metrics import classification_report\n",
        "from sklearn.compose import ColumnTransformer\n",
        "from sklearn.ensemble import RandomForestClassifier\n",
        "from sklearn.tree import DecisionTreeClassifier\n",
        "from sklearn.metrics import roc_curve\n",
        "\n"
      ]
    },
    {
      "cell_type": "code",
      "execution_count": null,
      "metadata": {
        "id": "rVFE-00cfnoR"
      },
      "outputs": [],
      "source": [
        "model_lg = Pipeline([\n",
        "    ('pca', PCA()),\n",
        "    ('logreg', LogisticRegression())\n",
        "])\n",
        "\n",
        "from sklearn.model_selection import GridSearchCV\n",
        "params = {'logreg__C': [0.01, 0.1, 1, 10,100],\n",
        "          'logreg__solver': ['newton-cg', 'liblinear'], 'pca__n_components': [5,6,7,8,9,10,11]}\n",
        "\n",
        "\n",
        "gcv_lg = GridSearchCV(estimator=model_lg, param_grid=params, scoring='accuracy')\n",
        "\n",
        "gcv_lg = gcv_lg.fit(X_train, y_train)"
      ]
    },
    {
      "cell_type": "code",
      "execution_count": null,
      "metadata": {
        "colab": {
          "base_uri": "https://localhost:8080/"
        },
        "id": "-2RWDCwHfnoR",
        "outputId": "5e38f6de-701e-4913-f334-f7a3293b36d3"
      },
      "outputs": [
        {
          "output_type": "execute_result",
          "data": {
            "text/plain": [
              "GridSearchCV(estimator=Pipeline(steps=[('pca', PCA()),\n",
              "                                       ('logreg', LogisticRegression())]),\n",
              "             param_grid={'logreg__C': [0.01, 0.1, 1, 10, 100],\n",
              "                         'logreg__solver': ['newton-cg', 'liblinear'],\n",
              "                         'pca__n_components': [5, 6, 7, 8, 9, 10, 11]},\n",
              "             scoring='accuracy')"
            ]
          },
          "metadata": {},
          "execution_count": 31
        }
      ],
      "source": [
        "gcv_lg"
      ]
    },
    {
      "cell_type": "code",
      "execution_count": null,
      "metadata": {
        "colab": {
          "base_uri": "https://localhost:8080/"
        },
        "id": "8YLESmSEfnoR",
        "outputId": "02514c00-c8c4-4fd4-fb9e-3f833a6a1635"
      },
      "outputs": [
        {
          "output_type": "execute_result",
          "data": {
            "text/plain": [
              "Pipeline(steps=[('pca', PCA(n_components=11)),\n",
              "                ('logreg', LogisticRegression(C=10, solver='newton-cg'))])"
            ]
          },
          "metadata": {},
          "execution_count": 32
        }
      ],
      "source": [
        "gcv_lg.best_estimator_"
      ]
    },
    {
      "cell_type": "code",
      "execution_count": null,
      "metadata": {
        "colab": {
          "base_uri": "https://localhost:8080/"
        },
        "id": "ZLrs8SqLfnoR",
        "outputId": "4ac47380-f669-4699-fb1d-0c8de1221b3f"
      },
      "outputs": [
        {
          "output_type": "stream",
          "name": "stdout",
          "text": [
            "Validation score: 64.92%\n",
            "Test score: 64.25%\n"
          ]
        }
      ],
      "source": [
        "print(f'Validation score: {gcv_lg.best_score_:.2%}')\n",
        "print(f'Test score: {gcv_lg.score(X_test, y_test):.2%}')"
      ]
    },
    {
      "cell_type": "code",
      "execution_count": null,
      "metadata": {
        "colab": {
          "base_uri": "https://localhost:8080/"
        },
        "id": "cC_yxt0rfnoR",
        "outputId": "63e25b44-499c-4da0-9b56-cdc7d69e8fed"
      },
      "outputs": [
        {
          "output_type": "stream",
          "name": "stdout",
          "text": [
            "              precision    recall  f1-score   support\n",
            "\n",
            "           0      0.677     0.671     0.674      1970\n",
            "           1      0.601     0.608     0.605      1608\n",
            "\n",
            "    accuracy                          0.643      3578\n",
            "   macro avg      0.639     0.639     0.639      3578\n",
            "weighted avg      0.643     0.643     0.643      3578\n",
            "\n"
          ]
        }
      ],
      "source": [
        "yhat = gcv_lg.predict(X_test)\n",
        "print(classification_report(y_test, yhat, digits=3))"
      ]
    },
    {
      "cell_type": "code",
      "execution_count": null,
      "metadata": {
        "colab": {
          "base_uri": "https://localhost:8080/",
          "height": 310
        },
        "id": "sQ2XvBm9fnoR",
        "outputId": "f955ab45-31ad-4982-82a5-cd4cac20f24b"
      },
      "outputs": [
        {
          "output_type": "display_data",
          "data": {
            "text/plain": [
              "<Figure size 432x288 with 2 Axes>"
            ],
            "image/png": "[encoded data removed]"
          },
          "metadata": {
            "needs_background": "light"
          }
        }
      ],
      "source": [
        "plot_confusion_matrix(gcv_lg, X_test, y_test,\n",
        "                             display_labels=[0,1],\n",
        "                             cmap=plt.cm.Blues,\n",
        "                             normalize=\"true\")\n",
        "plt.title('Logistic Regression Confussion matrix on how the \\n model can predict covid positive')\n",
        "plt.show()"
      ]
    },
    {
      "cell_type": "code",
      "execution_count": null,
      "metadata": {
        "id": "biz0WGHEfnoR"
      },
      "outputs": [],
      "source": [
        "#from imblearn.over_sampling import SMOTE\n",
        "#smt = SMOTE()\n",
        "#X_train, y_train = smt.fit_sample(X_train, y_train)"
      ]
    },
    {
      "cell_type": "code",
      "execution_count": null,
      "metadata": {
        "colab": {
          "base_uri": "https://localhost:8080/",
          "height": 279
        },
        "id": "EOOejf8kfnoR",
        "outputId": "db735f9d-c10b-4f2a-ceda-b4f7e28baecd"
      },
      "outputs": [
        {
          "output_type": "display_data",
          "data": {
            "text/plain": [
              "<Figure size 432x288 with 1 Axes>"
            ],
            "image/png": "[encoded data removed]"
          },
          "metadata": {
            "needs_background": "light"
          }
        }
      ],
      "source": [
        "y_testhat = gcv_lg.predict_proba(X_test)\n",
        "pos_probstest = y_testhat[:,1] \n",
        "y_trainhat = gcv_lg.predict_proba(X_train)\n",
        "pos_probstrain = y_trainhat[:,1] \n",
        "\n",
        "\n",
        "# Calculate ROC Curve for model\n",
        "fpr_test, tpr_test, _ = roc_curve(y_test, pos_probstest)\n",
        "fpr_train, tpr_train, _ = roc_curve(y_train, pos_probstrain)\n",
        "\n",
        "\n",
        "# Plot model ROC Curve\n",
        "plt.plot(fpr_test, tpr_test,'-r')\n",
        "plt.plot(fpr_train, tpr_train,'-b')\n",
        "plt.xlabel('False Positive Rate')\n",
        "plt.ylabel('True Positive Rate')\n",
        "plt.legend(['Test','Training'])\n",
        "plt.plot([0, 1], [0, 1], color='navy', linestyle='--')\n",
        "plt.show()"
      ]
    },
    {
      "cell_type": "markdown",
      "metadata": {
        "id": "P6mpJ5sOfnoR"
      },
      "source": [
        "## Decision Tree"
      ]
    },
    {
      "cell_type": "code",
      "execution_count": null,
      "metadata": {
        "colab": {
          "base_uri": "https://localhost:8080/"
        },
        "id": "09DLBNxpfnoR",
        "outputId": "cf186291-e882-450a-eeb3-d7e4934452ed"
      },
      "outputs": [
        {
          "output_type": "execute_result",
          "data": {
            "text/plain": [
              "Pipeline(steps=[('dt',\n",
              "                 DecisionTreeClassifier(class_weight='balanced', max_depth=20,\n",
              "                                        min_samples_leaf=2,\n",
              "                                        min_samples_split=50))])"
            ]
          },
          "metadata": {},
          "execution_count": 38
        }
      ],
      "source": [
        "model_dt = Pipeline([('dt', DecisionTreeClassifier())]\n",
        ")\n",
        "\n",
        "param_dt = [\n",
        "  {'dt__max_depth': [20,25,30,35],\n",
        "   'dt__min_samples_split':[20, 40,50],\n",
        "   'dt__min_samples_leaf': [2, 5,10],\n",
        "   'dt__class_weight':[None, 'balanced']\n",
        "  }\n",
        " ]\n",
        "\n",
        "gcv_dt = GridSearchCV(estimator=model_dt, \n",
        "                           param_grid=param_dt, scoring='accuracy', refit=True)\n",
        "gcv_dt = gcv_dt.fit(X_train, y_train)\n",
        "\n",
        "gcv_dt.best_estimator_"
      ]
    },
    {
      "cell_type": "code",
      "execution_count": null,
      "metadata": {
        "colab": {
          "base_uri": "https://localhost:8080/"
        },
        "id": "RBhAOu4cfnoR",
        "outputId": "8714e05b-2496-44b9-b1ab-f7b673ab38e7"
      },
      "outputs": [
        {
          "output_type": "stream",
          "name": "stdout",
          "text": [
            "Validation score: 65.42%\n",
            "Test score: 64.53%\n"
          ]
        }
      ],
      "source": [
        "print(f'Validation score: {gcv_dt.best_score_:.2%}')\n",
        "print(f'Test score: {gcv_dt.score(X_test, y_test):.2%}')"
      ]
    },
    {
      "cell_type": "code",
      "execution_count": null,
      "metadata": {
        "colab": {
          "base_uri": "https://localhost:8080/"
        },
        "id": "cpQILiOjfnoR",
        "outputId": "94978f01-db70-4044-fcf3-8af0dd3eaa11"
      },
      "outputs": [
        {
          "output_type": "stream",
          "name": "stdout",
          "text": [
            "              precision    recall  f1-score   support\n",
            "\n",
            "           0       0.71      0.61      0.65      1970\n",
            "           1       0.59      0.69      0.64      1608\n",
            "\n",
            "    accuracy                           0.65      3578\n",
            "   macro avg       0.65      0.65      0.65      3578\n",
            "weighted avg       0.65      0.65      0.65      3578\n",
            "\n"
          ]
        }
      ],
      "source": [
        "y_testp = gcv_dt.predict(X_test)\n",
        "y_testp_dt = gcv_dt.predict_proba(X_test)\n",
        "print(classification_report(y_test, y_testp))"
      ]
    },
    {
      "cell_type": "code",
      "execution_count": null,
      "metadata": {
        "colab": {
          "base_uri": "https://localhost:8080/",
          "height": 310
        },
        "id": "2nmOiOnGfnoS",
        "outputId": "2c65160d-dc33-4a0a-df95-ce4c31194c52"
      },
      "outputs": [
        {
          "output_type": "display_data",
          "data": {
            "text/plain": [
              "<Figure size 432x288 with 2 Axes>"
            ],
            "image/png": "[encoded data removed]"
          },
          "metadata": {
            "needs_background": "light"
          }
        }
      ],
      "source": [
        "plot_confusion_matrix(gcv_dt, X_test, y_test,\n",
        "                             display_labels=[0,1],\n",
        "                             cmap=plt.cm.Blues,\n",
        "                             normalize=\"true\")\n",
        "plt.title('Decision Tree Confussion matrix on how the \\n model can predict covid positive')\n",
        "plt.show()"
      ]
    },
    {
      "cell_type": "code",
      "execution_count": null,
      "metadata": {
        "colab": {
          "base_uri": "https://localhost:8080/",
          "height": 279
        },
        "id": "GLFaRsz9fnoS",
        "outputId": "6f7d0152-7573-436d-9b45-78eec4d858a2"
      },
      "outputs": [
        {
          "output_type": "display_data",
          "data": {
            "text/plain": [
              "<Figure size 432x288 with 1 Axes>"
            ],
            "image/png": "[encoded data removed]"
          },
          "metadata": {
            "needs_background": "light"
          }
        }
      ],
      "source": [
        "y_testhat = gcv_dt.predict_proba(X_test)\n",
        "pos_probstest = y_testhat[:,1] \n",
        "y_trainhat = gcv_dt.predict_proba(X_train)\n",
        "pos_probstrain = y_trainhat[:,1] \n",
        "\n",
        "from sklearn.metrics import roc_curve\n",
        "\n",
        "# Calculate ROC Curve for model\n",
        "fpr_test, tpr_test, _ = roc_curve(y_test, pos_probstest)\n",
        "fpr_train, tpr_train, _ = roc_curve(y_train, pos_probstrain)\n",
        "\n",
        "\n",
        "# Plot model ROC Curve\n",
        "plt.plot(fpr_test, tpr_test,'-r')\n",
        "plt.plot(fpr_train, tpr_train,'-b')\n",
        "plt.xlabel('False Positive Rate')\n",
        "plt.ylabel('True Positive Rate')\n",
        "plt.legend(['Test','Training'])\n",
        "plt.plot([0, 1], [0, 1], color='navy', linestyle='--')\n",
        "plt.show()"
      ]
    },
    {
      "cell_type": "markdown",
      "metadata": {
        "id": "kEe71LEKfnoS"
      },
      "source": [
        "## Random forest"
      ]
    },
    {
      "cell_type": "code",
      "execution_count": null,
      "metadata": {
        "colab": {
          "base_uri": "https://localhost:8080/"
        },
        "id": "SkJjpBw3fnoS",
        "outputId": "aba98691-0fef-43c7-b351-02885dd6ae6e"
      },
      "outputs": [
        {
          "output_type": "execute_result",
          "data": {
            "text/plain": [
              "Pipeline(steps=[('rf',\n",
              "                 RandomForestClassifier(class_weight='balanced', max_depth=5,\n",
              "                                        max_samples=2000, n_estimators=10))])"
            ]
          },
          "metadata": {},
          "execution_count": 43
        }
      ],
      "source": [
        "rf_pipeline = Pipeline([\n",
        "    ('rf', RandomForestClassifier())]\n",
        ")\n",
        "\n",
        "param_rf = [{'rf__max_depth': [5, 8, 10, 12],\n",
        "               'rf__n_estimators': [10],\n",
        "               'rf__class_weight': ['balanced', 'balanced_subsample'],\n",
        "               'rf__max_samples': [1000, 2000, 5000]\n",
        "              }]\n",
        "\n",
        "rf_results = GridSearchCV(estimator=rf_pipeline, param_grid=param_rf, scoring='recall', refit=True)\n",
        "rf_results = rf_results.fit(X_train, y_train)\n",
        "rf_results.best_estimator_"
      ]
    },
    {
      "cell_type": "code",
      "execution_count": null,
      "metadata": {
        "colab": {
          "base_uri": "https://localhost:8080/"
        },
        "id": "lv7rXuJ8fnoS",
        "outputId": "1fcecac6-cf5c-4007-a4c5-22137e01cf39"
      },
      "outputs": [
        {
          "output_type": "stream",
          "name": "stdout",
          "text": [
            "Validation score: 81.44%\n",
            "Test score: 82.28%\n"
          ]
        }
      ],
      "source": [
        "print(f'Validation score: {rf_results.best_score_:.2%}')\n",
        "print(f'Test score: {rf_results.score(X_test, y_test):.2%}')"
      ]
    },
    {
      "cell_type": "code",
      "execution_count": null,
      "metadata": {
        "colab": {
          "base_uri": "https://localhost:8080/"
        },
        "id": "wXiIntfMfnoS",
        "outputId": "5e17f0b3-d1b1-4c60-8174-c1519c864694"
      },
      "outputs": [
        {
          "output_type": "stream",
          "name": "stdout",
          "text": [
            "              precision    recall  f1-score   support\n",
            "\n",
            "           0       0.78      0.51      0.61      1970\n",
            "           1       0.58      0.82      0.68      1608\n",
            "\n",
            "    accuracy                           0.65      3578\n",
            "   macro avg       0.68      0.67      0.65      3578\n",
            "weighted avg       0.69      0.65      0.64      3578\n",
            "\n"
          ]
        }
      ],
      "source": [
        "y_testp = rf_results.predict(X_test)\n",
        "y_testp_rf = rf_results.predict_proba(X_test)\n",
        "print(classification_report(y_test, y_testp))"
      ]
    },
    {
      "cell_type": "code",
      "execution_count": null,
      "metadata": {
        "colab": {
          "base_uri": "https://localhost:8080/",
          "height": 310
        },
        "id": "tgv65oOpfnoS",
        "outputId": "f1bc0008-5e13-4ad6-de2c-955d2dcf2342"
      },
      "outputs": [
        {
          "output_type": "display_data",
          "data": {
            "text/plain": [
              "<Figure size 432x288 with 2 Axes>"
            ],
            "image/png": "[encoded data removed]"
          },
          "metadata": {
            "needs_background": "light"
          }
        }
      ],
      "source": [
        "plot_confusion_matrix(rf_results, X_test, y_test,\n",
        "                             display_labels=[0,1],\n",
        "                             cmap=plt.cm.Blues,\n",
        "                             normalize=\"true\")\n",
        "plt.title('Random forest Confussion matrix on how the \\n model can predict covid positive')\n",
        "plt.show()"
      ]
    },
    {
      "cell_type": "code",
      "execution_count": null,
      "metadata": {
        "collapsed": true,
        "colab": {
          "base_uri": "https://localhost:8080/",
          "height": 279
        },
        "id": "jwDLdQX-fnoS",
        "outputId": "4d950d05-895f-4429-bf9d-40d363e959e1"
      },
      "outputs": [
        {
          "output_type": "display_data",
          "data": {
            "text/plain": [
              "<Figure size 432x288 with 1 Axes>"
            ],
            "image/png": "[encoded data removed]"
          },
          "metadata": {
            "needs_background": "light"
          }
        }
      ],
      "source": [
        "y_testhat = rf_results.predict_proba(X_test)\n",
        "pos_probstest = y_testhat[:,1] \n",
        "y_trainhat = rf_results.predict_proba(X_train)\n",
        "pos_probstrain = y_trainhat[:,1] \n",
        "\n",
        "\n",
        "# Calculate ROC Curve for model\n",
        "fpr_test, tpr_test, _ = roc_curve(y_test, pos_probstest)\n",
        "fpr_train, tpr_train, _ = roc_curve(y_train, pos_probstrain)\n",
        "\n",
        "\n",
        "# Plot model ROC Curve\n",
        "plt.plot(fpr_test, tpr_test,'-r')\n",
        "plt.plot(fpr_train, tpr_train,'-b')\n",
        "plt.xlabel('False Positive Rate')\n",
        "plt.ylabel('True Positive Rate')\n",
        "plt.legend(['Test','Training'])\n",
        "plt.plot([0, 1], [0, 1], color='navy', linestyle='--')\n",
        "plt.show()"
      ]
    },
    {
      "cell_type": "markdown",
      "metadata": {
        "id": "StbGU0PCfnoS"
      },
      "source": [
        "## SVM"
      ]
    },
    {
      "cell_type": "code",
      "execution_count": null,
      "metadata": {
        "id": "B8kB5AmUfnoS",
        "colab": {
          "base_uri": "https://localhost:8080/"
        },
        "outputId": "01cac5f8-93eb-4e34-aad7-b5b932289a5f"
      },
      "outputs": [
        {
          "output_type": "execute_result",
          "data": {
            "text/plain": [
              "Pipeline(steps=[('svc', SVC(C=10, kernel='linear', probability=True))])"
            ]
          },
          "metadata": {},
          "execution_count": 48
        }
      ],
      "source": [
        "from sklearn.svm import SVC\n",
        "svm_m = modeling_pipeline = Pipeline([('svc', SVC(probability=True))])\n",
        "\n",
        "\n",
        "param_svc = [\n",
        "  {'svc__C': [0.01, 0.1, 1, 10], 'svc__kernel': ['linear']}\n",
        " ]\n",
        "\n",
        "svm_results = GridSearchCV(estimator=svm_m, param_grid=param_svc, scoring='accuracy', refit=True, cv=5)\n",
        "svm_results = svm_results.fit(X_train, y_train)\n",
        "svm_results.best_estimator_"
      ]
    },
    {
      "cell_type": "code",
      "execution_count": null,
      "metadata": {
        "id": "fDKjEAeHfnoS",
        "colab": {
          "base_uri": "https://localhost:8080/"
        },
        "outputId": "0bbdf166-1cf4-4f07-ff05-15b4417bf563"
      },
      "outputs": [
        {
          "output_type": "stream",
          "name": "stdout",
          "text": [
            "Validation score: 65.67%\n",
            "Test score: 65.32%\n"
          ]
        }
      ],
      "source": [
        "print(f'Validation score: {svm_results.best_score_:.2%}')\n",
        "print(f'Test score: {svm_results.score(X_test, y_test):.2%}')"
      ]
    },
    {
      "cell_type": "code",
      "execution_count": null,
      "metadata": {
        "id": "bEkG4rATfnoS",
        "colab": {
          "base_uri": "https://localhost:8080/"
        },
        "outputId": "52c7535a-b1ae-48c2-86dd-b0708ffa7edb"
      },
      "outputs": [
        {
          "output_type": "stream",
          "name": "stdout",
          "text": [
            "              precision    recall  f1-score   support\n",
            "\n",
            "           0       0.71      0.63      0.67      1970\n",
            "           1       0.60      0.68      0.64      1608\n",
            "\n",
            "    accuracy                           0.65      3578\n",
            "   macro avg       0.65      0.66      0.65      3578\n",
            "weighted avg       0.66      0.65      0.65      3578\n",
            "\n"
          ]
        }
      ],
      "source": [
        "y_testp = svm_results.predict(X_test)\n",
        "y_testp_rf = svm_results.predict_proba(X_test)\n",
        "print(classification_report(y_test, y_testp))"
      ]
    },
    {
      "cell_type": "code",
      "execution_count": null,
      "metadata": {
        "id": "4AAvxm1efnoS",
        "colab": {
          "base_uri": "https://localhost:8080/",
          "height": 310
        },
        "outputId": "45f7c70a-6c05-4c65-9efc-0c0ab395e2d8"
      },
      "outputs": [
        {
          "output_type": "display_data",
          "data": {
            "text/plain": [
              "<Figure size 432x288 with 2 Axes>"
            ],
            "image/png": "[encoded data removed]"
          },
          "metadata": {
            "needs_background": "light"
          }
        }
      ],
      "source": [
        "plot_confusion_matrix(rf_results, X_test, y_test,\n",
        "                             display_labels=[0,1],\n",
        "                             cmap=plt.cm.Blues,\n",
        "                             normalize=\"true\")\n",
        "plt.title('SVM Confussion matrix on how the \\n model can predict covid positive')\n",
        "plt.show()"
      ]
    },
    {
      "cell_type": "markdown",
      "metadata": {
        "id": "-XxjwzV-fnoS"
      },
      "source": [
        "## Naive Bayes"
      ]
    },
    {
      "cell_type": "code",
      "execution_count": null,
      "metadata": {
        "id": "7Us85pyEfnoS"
      },
      "outputs": [],
      "source": [
        "from sklearn.naive_bayes import MultinomialNB\n",
        "from sklearn.metrics import ConfusionMatrixDisplay\n",
        "\n",
        "nb_m = modeling_pipeline = Pipeline([('model', MultinomialNB())])\n",
        "\n",
        "\n",
        "param_nb = [\n",
        "  {'model__alpha': [1,2,3,4]}\n",
        " ]\n",
        "\n",
        "nb_results = GridSearchCV(estimator=nb_m, param_grid=param_nb, scoring='accuracy', refit=True, cv=5)\n",
        "nb_results = nb_results.fit(X_train, y_train)\n"
      ]
    },
    {
      "cell_type": "code",
      "execution_count": null,
      "metadata": {
        "id": "PDwkvZoLfnoS",
        "colab": {
          "base_uri": "https://localhost:8080/"
        },
        "outputId": "ca4d596f-b8ca-4f9f-991e-6bba4df06183"
      },
      "outputs": [
        {
          "output_type": "execute_result",
          "data": {
            "text/plain": [
              "Pipeline(steps=[('model', MultinomialNB(alpha=2))])"
            ]
          },
          "metadata": {},
          "execution_count": 53
        }
      ],
      "source": [
        "nb_results.best_estimator_"
      ]
    },
    {
      "cell_type": "code",
      "execution_count": null,
      "metadata": {
        "id": "5wU-lki_fnoS",
        "colab": {
          "base_uri": "https://localhost:8080/"
        },
        "outputId": "3fa43875-cf6f-4829-c3e8-e03912152399"
      },
      "outputs": [
        {
          "output_type": "stream",
          "name": "stdout",
          "text": [
            "Validation score: 56.31%\n",
            "Test score: 55.53%\n"
          ]
        }
      ],
      "source": [
        "print(f'Validation score: {nb_results.best_score_:.2%}')\n",
        "print(f'Test score: {nb_results.score(X_test, y_test):.2%}')"
      ]
    },
    {
      "cell_type": "code",
      "execution_count": null,
      "metadata": {
        "id": "Q2EqjtYCfnoS",
        "colab": {
          "base_uri": "https://localhost:8080/"
        },
        "outputId": "2507c3c1-6182-4f9b-960b-2185437514e8"
      },
      "outputs": [
        {
          "output_type": "stream",
          "name": "stdout",
          "text": [
            "              precision    recall  f1-score   support\n",
            "\n",
            "           0       0.61      0.55      0.58      1970\n",
            "           1       0.50      0.56      0.53      1608\n",
            "\n",
            "    accuracy                           0.56      3578\n",
            "   macro avg       0.56      0.56      0.55      3578\n",
            "weighted avg       0.56      0.56      0.56      3578\n",
            "\n"
          ]
        }
      ],
      "source": [
        "y_testp = nb_results.predict(X_test)\n",
        "y_testp_rf = nb_results.predict_proba(X_test)\n",
        "print(classification_report(y_test, y_testp))"
      ]
    },
    {
      "cell_type": "code",
      "execution_count": null,
      "metadata": {
        "id": "fHoU5DqqfnoT",
        "colab": {
          "base_uri": "https://localhost:8080/",
          "height": 310
        },
        "outputId": "5ec54a74-b5a1-4f36-e07d-3f706f9f2f7f"
      },
      "outputs": [
        {
          "output_type": "display_data",
          "data": {
            "text/plain": [
              "<Figure size 432x288 with 2 Axes>"
            ],
            "image/png": "[encoded data removed]"
          },
          "metadata": {
            "needs_background": "light"
          }
        }
      ],
      "source": [
        "plot_confusion_matrix(nb_results, X_test, y_test,\n",
        "                             display_labels=[0,1],\n",
        "                             cmap=plt.cm.Blues,\n",
        "                             normalize=\"true\")\n",
        "plt.title('Naive Bayes on how the \\n model can predict covid positive')\n",
        "plt.show()"
      ]
    },
    {
      "cell_type": "markdown",
      "metadata": {
        "id": "SmyIDQ_MfnoT"
      },
      "source": [
        "## KNN"
      ]
    },
    {
      "cell_type": "code",
      "execution_count": null,
      "metadata": {
        "id": "m5PLfh5FfnoT"
      },
      "outputs": [],
      "source": [
        "from sklearn.feature_extraction.text import CountVectorizer\n",
        "from sklearn.neighbors import KNeighborsClassifier\n",
        "from sklearn.model_selection import GridSearchCV\n",
        "from sklearn.metrics import ConfusionMatrixDisplay\n",
        "\n",
        "param_knn = [\n",
        "  {'model__n_neighbors': [ 10, 15,20,25], 'model__weights': ['uniform','distance']}\n",
        " ]\n",
        "\n",
        "knn_m = modeling_pipeline = Pipeline([('model', KNeighborsClassifier())])\n",
        "\n",
        "knn_results = GridSearchCV(estimator=knn_m, param_grid=param_knn, scoring='accuracy', refit=True, cv=5)\n",
        "knn_results = knn_results.fit(X_train, y_train)\n"
      ]
    },
    {
      "cell_type": "code",
      "execution_count": null,
      "metadata": {
        "id": "bAX9d2hQfnoT",
        "colab": {
          "base_uri": "https://localhost:8080/"
        },
        "outputId": "99973455-f7fa-41ba-ad51-245e2fd4939d"
      },
      "outputs": [
        {
          "output_type": "execute_result",
          "data": {
            "text/plain": [
              "Pipeline(steps=[('model', KNeighborsClassifier(n_neighbors=25))])"
            ]
          },
          "metadata": {},
          "execution_count": 58
        }
      ],
      "source": [
        "knn_results.best_estimator_"
      ]
    },
    {
      "cell_type": "code",
      "execution_count": null,
      "metadata": {
        "id": "pIxPat4HfnoT",
        "colab": {
          "base_uri": "https://localhost:8080/"
        },
        "outputId": "1f807026-8c5b-465c-ac73-9c531d35abfe"
      },
      "outputs": [
        {
          "output_type": "stream",
          "name": "stdout",
          "text": [
            "Validation score: 63.34%\n",
            "Test score: 62.30%\n"
          ]
        }
      ],
      "source": [
        "print(f'Validation score: {knn_results.best_score_:.2%}')\n",
        "print(f'Test score: {knn_results.score(X_test, y_test):.2%}')"
      ]
    },
    {
      "cell_type": "code",
      "execution_count": null,
      "metadata": {
        "id": "o5aVOTabfnoT",
        "colab": {
          "base_uri": "https://localhost:8080/"
        },
        "outputId": "cfe7a36d-833a-4e8d-e482-f05715b0645c"
      },
      "outputs": [
        {
          "output_type": "stream",
          "name": "stdout",
          "text": [
            "              precision    recall  f1-score   support\n",
            "\n",
            "           0       0.70      0.55      0.62      1970\n",
            "           1       0.56      0.71      0.63      1608\n",
            "\n",
            "    accuracy                           0.62      3578\n",
            "   macro avg       0.63      0.63      0.62      3578\n",
            "weighted avg       0.64      0.62      0.62      3578\n",
            "\n"
          ]
        }
      ],
      "source": [
        "y_testp = knn_results.predict(X_test)\n",
        "y_testp_rf = knn_results.predict_proba(X_test)\n",
        "print(classification_report(y_test, y_testp))"
      ]
    },
    {
      "cell_type": "code",
      "execution_count": null,
      "metadata": {
        "id": "DBp5QLIdfnoT",
        "colab": {
          "base_uri": "https://localhost:8080/",
          "height": 310
        },
        "outputId": "cf1b6c22-7b07-4ded-a16c-2de1ac285f64"
      },
      "outputs": [
        {
          "output_type": "display_data",
          "data": {
            "text/plain": [
              "<Figure size 432x288 with 2 Axes>"
            ],
            "image/png": "[encoded data removed]"
          },
          "metadata": {
            "needs_background": "light"
          }
        }
      ],
      "source": [
        "plot_confusion_matrix(knn_results, X_test, y_test,\n",
        "                             display_labels=[0,1],\n",
        "                             cmap=plt.cm.Blues,\n",
        "                             normalize=\"true\")\n",
        "plt.title('Knn on how the \\n model can predict covid positive')\n",
        "plt.show()"
      ]
    }
  ]
}